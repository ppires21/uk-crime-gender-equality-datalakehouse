{
 "cells": [
  {
   "cell_type": "code",
   "execution_count": 1,
   "id": "palestinian-istanbul",
   "metadata": {},
   "outputs": [],
   "source": [
    "\n",
    "from pyspark.sql import SparkSession\n",
    "from pyspark.sql import Row\n",
    "from delta import *\n",
    "from pyspark.sql import functions as F\n",
    "from pyspark.sql import DataFrame\n",
    "from pyspark.sql.functions import when, col, monotonically_increasing_id, concat, lit, split\n",
    "from pyspark.sql.functions import regexp_replace\n",
    "\n",
    "# warehouse_location points to the default location for managed databases and tables\n",
    "warehouse_location = 'hdfs://hdfs-nn:9000/warehouse'\n",
    "\n",
    "builder = SparkSession \\\n",
    "    .builder \\\n",
    "    .master(\"local[2]\") \\\n",
    "    .appName(\"Python Spark DataFrames and SQL\") \\\n",
    "    .config(\"spark.sql.warehouse.dir\", warehouse_location) \\\n",
    "    .config(\"hive.metastore.uris\", \"thrift://hive-metastore:9083\") \\\n",
    "    .config(\"spark.sql.extensions\", \"io.delta.sql.DeltaSparkSessionExtension\") \\\n",
    "    .config(\"spark.sql.catalog.spark_catalog\", \"org.apache.spark.sql.delta.catalog.DeltaCatalog\") \\\n",
    "    .config(\"spark.jars.packages\", \"io.delta:delta-core_2.12:2.4.0\") \\\n",
    "    .enableHiveSupport() \\\n",
    "\n",
    "spark = configure_spark_with_delta_pip(builder).getOrCreate()"
   ]
  },
  {
   "cell_type": "code",
   "execution_count": 2,
   "id": "0ba3a0a2-6321-4a8f-bee4-40bcdf55488e",
   "metadata": {},
   "outputs": [],
   "source": [
    "#----------------------------Child_Protection_Dataset-----------------------------#"
   ]
  },
  {
   "cell_type": "code",
   "execution_count": 3,
   "id": "e297b876-2860-42c7-b8b9-7553ae718710",
   "metadata": {},
   "outputs": [],
   "source": [
    "hdfs_path_Children_Careplan = \"hdfs://hdfs-nn:9000/Datasets/Bronze/Child_Protection_Dataset/Child_Protection_Dataset.csv\""
   ]
  },
  {
   "cell_type": "code",
   "execution_count": 4,
   "id": "133798bb-4d2c-41f3-91ca-ce2ae9c4db7d",
   "metadata": {},
   "outputs": [],
   "source": [
    "children_careplan_df = spark.read.option(\"delimiter\",\",\").option(\"header\",\"true\").csv(hdfs_path_Children_Careplan)"
   ]
  },
  {
   "cell_type": "code",
   "execution_count": 5,
   "id": "9b13534c-23ac-41d9-bb56-5cd7c4797a30",
   "metadata": {},
   "outputs": [],
   "source": [
    "\n",
    "## Adicionar uma coluna no Dataframe com um ID artificial - nesta opereção o id irá aparecer na ultima coluna do dataframe\n",
    "children_careplan_df = children_careplan_df.withColumn(\"Children_Careplan_Id\", monotonically_increasing_id())\n",
    "\n",
    "# list comprehension \n",
    "# utilzado para reordenar as colunas e colocar a nova coluna Childre_Careplan_Id o mais a esquerda no dataframe \n",
    "columns_ordered = [\"Children_Careplan_Id\"] + [col_name for col_name in children_careplan_df.columns if col_name != \"Children_Careplan_Id\"]\n",
    "children_careplan_df = children_careplan_df.select(*columns_ordered)\n"
   ]
  },
  {
   "cell_type": "code",
   "execution_count": 6,
   "id": "479c0ba3-bd00-487c-9823-fd56a6f7e8ca",
   "metadata": {},
   "outputs": [],
   "source": [
    "#Verifica se a nova coluna criada existe e converte num numero inteiro\n",
    "if \"Children_Careplan_Id\" in children_careplan_df.columns:\n",
    "    children_careplan_df = children_careplan_df.withColumn(\"Children_Careplan_Id\", col(\"Children_Careplan_Id\").cast(\"int\"))\n",
    "else:\n",
    "    print(\"A coluna 'Children_Careplan_Id' não existe no DataFrame.\")\n"
   ]
  },
  {
   "cell_type": "code",
   "execution_count": 7,
   "id": "f0b2e8ec-0715-4b0a-af1b-0c49be7968d8",
   "metadata": {},
   "outputs": [],
   "source": [
    "\n",
    "# Alterar o nome CP_End_Reason para algo mais claro e intuitivo como Careplan End Reason\n",
    "children_careplan_df = children_careplan_df.withColumnRenamed(\"CP End Reason\",\"Careplan End Reason\")\n",
    "\n",
    "# Alterar o nome Current CPP para algo mais claro e intuitivo como Current Careplan Protection\n",
    "children_careplan_df = children_careplan_df.withColumnRenamed(\"Current CPP\",\"Current Careplan Protection\")\n",
    "\n",
    "#children_careplan_df = children_careplan_df.withColumnRenamed(\"Old_Column_Name\", \"New_Column_Name\")\n",
    "#Alterar o nome de Reg_Disabled para algo mais claro e intuitivo como Registration Disabled\n",
    "children_careplan_df = children_careplan_df.withColumnRenamed(\"Reg Disabled\",\"Registration Disabled\")\n",
    "\n",
    "# Renomear e altera o simbolo & para a palavra and \n",
    "children_careplan_df = children_careplan_df.withColumnRenamed(\"Start Month & Year\",\"Start Month and Year\")\n",
    "children_careplan_df = children_careplan_df.withColumnRenamed(\"End Month & Year\",\"End Month and Year\")\n"
   ]
  },
  {
   "cell_type": "code",
   "execution_count": 8,
   "id": "991b29f1-77de-4b5e-9430-562a13cbe298",
   "metadata": {},
   "outputs": [],
   "source": [
    "\n",
    "# Alteração do conteudo da coluna Category of Abuse, este quando for null passa para Category Not Available\n",
    "children_careplan_df = children_careplan_df.withColumn(\n",
    "   \"Category of Abuse\",\n",
    "    when(\n",
    "        col(\"Category of Abuse\").isNull(), \n",
    "        \"Category Not Available\"\n",
    "    ).otherwise(col(\"Category of Abuse\"))    \n",
    ")\n"
   ]
  },
  {
   "cell_type": "code",
   "execution_count": 9,
   "id": "992b4026-971e-41b7-9180-6772a05aeba3",
   "metadata": {},
   "outputs": [],
   "source": [
    "\n",
    "# Alteração do conteudo da coluna Careplan End Reason, este quando for null passa para Criteria Not Available\n",
    "children_careplan_df = children_careplan_df.withColumn(    \n",
    "   \"Careplan End Reason\",\n",
    "    when(\n",
    "        col(\"Careplan End Reason\").isNull(), \n",
    "        \"Criteria Not Available\"\n",
    "    ).otherwise(col(\"Careplan End Reason\"))    \n",
    ")\n",
    "#children_careplan_df.toPandas()"
   ]
  },
  {
   "cell_type": "code",
   "execution_count": 10,
   "id": "fc3244f2-2092-4dd8-931b-4c23d3ee5a90",
   "metadata": {},
   "outputs": [],
   "source": [
    "\n",
    "# Alteração do conteudo da coluna End Month & Year, este quando encontrar um valor N passa esse valor para null\n",
    "children_careplan_df = children_careplan_df.withColumn(    \n",
    "   \"End Month and Year\",\n",
    "    when(\n",
    "        (col(\"End Month and Year\") == 'N'), \n",
    "        None\n",
    "    ).otherwise(col(\"End Month and Year\"))    \n",
    ")\n"
   ]
  },
  {
   "cell_type": "code",
   "execution_count": 11,
   "id": "c6cdd231-03c4-4f3f-a070-5b64f7573a0e",
   "metadata": {},
   "outputs": [],
   "source": [
    "\n",
    "# Eliminação da coluna Ethnic Code, não foi possivel encontrar os significados dos valores A,B,C,D e E.\n",
    "column_to_remove = \"Ethnic Code\"\n",
    "children_careplan_df = children_careplan_df.drop(column_to_remove)\n"
   ]
  },
  {
   "cell_type": "code",
   "execution_count": 12,
   "id": "f8318218-b693-4f34-b6ec-aa63a7596bbd",
   "metadata": {},
   "outputs": [],
   "source": [
    "\n",
    "#criação uma nova coluna para as idades de forma a uniformizar com os outros csv para futuras possiveis analises, colocar todos em younth 0-24 years\n",
    "children_careplan_df = children_careplan_df.withColumn(\"Uniform_Age_Group\", F.expr(\"'Youth 0-24 years'\"))\n"
   ]
  },
  {
   "cell_type": "code",
   "execution_count": 13,
   "id": "78b381ff-b1b0-4907-9a1b-eeb516cf4dc3",
   "metadata": {},
   "outputs": [],
   "source": [
    "# criação da coluna da localização Barnet.\n",
    "children_careplan_df = children_careplan_df.withColumn(\"Borough\", F.expr(\"'Barnet'\"))"
   ]
  },
  {
   "cell_type": "code",
   "execution_count": 14,
   "id": "11017568-9f06-49e4-b1b2-586ef9368602",
   "metadata": {},
   "outputs": [],
   "source": [
    "\n",
    "#criação das colunas mes e ano correspondentes as colunas existentes\n",
    "\n",
    "#criamos e colocamos os nomes das colunas que irão ser utilizadas numa lista \n",
    "original_columns = [\"Date Careplan Started\", \"Date Careplan Ended\", \"Start Month and Year\", \"End Month and Year\"]\n",
    "#criamos uma lista vazia ara ser colocado as futuras novas colunas \n",
    "new_columns = []\n",
    "\n",
    "# Aplicar um loop para cada coluna original \n",
    "for i, column in enumerate(original_columns, start=1):  #o enumerate é utilizado para percorrer uma sequencia (lista original_columns) e o contador começa no numero 1 e vai incrementando\n",
    "    #criar os nomes das novas colunas de acordo com o numero de iteracoes \n",
    "    new_month_column = f\"month{i}\"\n",
    "    new_year_column = f\"year{i}\"\n",
    "    #adiciona as novas colunas na lists new_columns\n",
    "    new_columns.extend([                                                \n",
    "        split(col(column), \" \")[0].cast(\"int\").alias(new_month_column),     #divide a coluna original atraves do \" \" e converte o mes em inteiro e coloca \n",
    "        split(col(column), \" \")[1].cast(\"int\").alias(new_year_column)\n",
    "    ])\n",
    "\n",
    "# Adiciona as novas colunas ao DataFrame original\n",
    "children_careplan_df = children_careplan_df.select(\"*\", *new_columns)\n",
    "\n",
    "\n",
    "# Renomear as novas colunas \n",
    "# criar duas listas com os nomes das colunas \n",
    "month_coluna = [\"Data Careplan Started\", \"Data Careplan Ended\", \"Start Month and Year\", \"End Month and Year\"]\n",
    "year_coluna = [\"Data Careplan Started\", \"Data Careplan Ended\", \"Start Month and Year\", \"End Month and Year\"]\n",
    "\n",
    "# Aplicar um loop para renomear as colunas de mês, alterando a coluna com o nome month1  para Data Careplan Started_month, o loop começa em 1 e repete para todas as colunas month\n",
    "for i, prefix in enumerate(month_coluna, start=1):\n",
    "    old_column_name = f\"month{i}\"\n",
    "    new_column_name = f\"{prefix}_month\"\n",
    "    children_careplan_df = children_careplan_df.withColumnRenamed(old_column_name, new_column_name)\n",
    "\n",
    "# Aplicar um loop para renomear as colunas de ano, alterando a coluna com o nome year1  para Data Careplan Started_year, o loop começa em 1 e repete para todas as colunas year\n",
    "for i, prefix in enumerate(year_coluna, start=1):\n",
    "    old_column_name = f\"year{i}\"\n",
    "    new_column_name = f\"{prefix}_year\"\n",
    "    children_careplan_df = children_careplan_df.withColumnRenamed(old_column_name, new_column_name)\n"
   ]
  },
  {
   "cell_type": "code",
   "execution_count": 15,
   "id": "f35f39ed-c0ad-4cca-b0f1-9689bba9e581",
   "metadata": {},
   "outputs": [],
   "source": [
    "\n",
    "#renomear todas as colunas do dataframe onde forem encontradas \" \"\n",
    "def rename_columns(dataframe: DataFrame) -> DataFrame:\n",
    "    for column in dataframe.columns:  \n",
    "        new_column_name = column.replace(\" \", \"_\")\n",
    "        dataframe = dataframe.withColumnRenamed(column, new_column_name) \n",
    "    return dataframe\n",
    "    \n",
    "children_careplan_df = rename_columns(children_careplan_df)"
   ]
  },
  {
   "cell_type": "code",
   "execution_count": 16,
   "id": "3d1f3597-d7d1-4418-96e1-5c9418620baa",
   "metadata": {},
   "outputs": [],
   "source": [
    "children_careplan_df \\\n",
    "    .write \\\n",
    "    .mode(\"overwrite\") \\\n",
    "    .option(\"mergeSchema\", \"true\") \\\n",
    "    .format(\"delta\") \\\n",
    "    .saveAsTable(\"Projeto.Child_Protection_table\")"
   ]
  },
  {
   "cell_type": "code",
   "execution_count": 18,
   "id": "808b4837-bb1c-4363-a0d5-f293d39b36c3",
   "metadata": {},
   "outputs": [],
   "source": [
    "######### Parte Gold  ##########"
   ]
  },
  {
   "cell_type": "code",
   "execution_count": null,
   "id": "8892c611",
   "metadata": {},
   "outputs": [],
   "source": []
  },
  {
   "cell_type": "code",
   "execution_count": 19,
   "id": "1bddb75f",
   "metadata": {},
   "outputs": [],
   "source": [
    "# Ler os dados das tabelas de silver\n",
    "children_careplan_df = spark.table(\"Projeto.Child_Protection_table\")"
   ]
  },
  {
   "cell_type": "code",
   "execution_count": 20,
   "id": "e02ccbac-d211-4dab-a963-79636d9f32f2",
   "metadata": {},
   "outputs": [],
   "source": [
    "# Criar a dimensão Date\n",
    "dim_date_df = children_careplan_df \\\n",
    "              .select(\"Children_Careplan_Id\",\n",
    "                      \"Data_Careplan_Started_month\",\n",
    "                      \"Data_Careplan_Started_year\",\n",
    "                      \"Data_Careplan_Ended_month\",\n",
    "                      \"Data_Careplan_Ended_year\",\n",
    "                      \"Start_Month_and_Year_month\",\n",
    "                      \"Start_Month_and_Year_year\",\n",
    "                      \"End_Month_and_Year_month\",\n",
    "                      \"End_Month_and_Year_year\") \\\n",
    "              .distinct()\n",
    "                \n",
    "#Criação uma coluna com chaves artificiais com valores sequenciais, colocando-a em primeiro lugar (DD = Date Dimension)\n",
    "dim_date_df = dim_date_df \\\n",
    "                .withColumn(\"Date_Dimension_ID\", concat(lit(\"DD\"), monotonically_increasing_id())\n",
    "                .cast(\"string\")) \\\n",
    "                .select(\"Date_Dimension_ID\", *dim_date_df.columns[0:])"
   ]
  },
  {
   "cell_type": "code",
   "execution_count": 21,
   "id": "9be30820",
   "metadata": {},
   "outputs": [],
   "source": [
    "# Criar a dimensão Child\n",
    "dim_child_df = children_careplan_df \\\n",
    "              .select(\"Children_Careplan_Id\",\n",
    "                      \"Gender\",\n",
    "                      \"Disabled\",\n",
    "                      \"Registration_Disabled\",\n",
    "                      \"Unique\",\n",
    "                      \"Current_Age_Group\",\n",
    "                      \"Current_Age_Bracket\",\n",
    "                      \"Age_Group_on_Registration\", \n",
    "                      \"Age_Group_on_deRegistration\",\n",
    "                      \"Uniform_Age_Group\") \\\n",
    "              .distinct()\n",
    "                \n",
    "#Criação uma coluna com chaves artificiais com valores sequenciais, colocando-a em primeiro lugar (CD = Child Dimension)\n",
    "dim_child_df = dim_child_df \\\n",
    "               .withColumn(\"Child_Dimension_ID\", concat(lit(\"CD\"), monotonically_increasing_id())\n",
    "               .cast(\"string\")) \\\n",
    "               .select(\"Child_Dimension_ID\", *dim_child_df.columns[0:])"
   ]
  },
  {
   "cell_type": "code",
   "execution_count": 22,
   "id": "babcc185",
   "metadata": {},
   "outputs": [],
   "source": [
    "# Criar a dimensão Care Plan\n",
    "dim_care_plan_df = children_careplan_df \\\n",
    "                   .select(\"Children_Careplan_Id\",\n",
    "                           \"Category_of_Abuse\",\n",
    "                           \"Careplan_End_Reason\",\n",
    "                           \"Current_Careplan_Protection\",\n",
    "                           \"Borough\") \\\n",
    "                   .distinct()\n",
    "                \n",
    "#Criação uma coluna com chaves artificiais com valores sequenciais, colocando-a em primeiro lugar (CPD = Care Plan Dimension)\n",
    "dim_care_plan_df = dim_care_plan_df \\\n",
    "                  .withColumn(\"Care_Plan_Dimension_ID\", concat(lit(\"CPD\"), monotonically_increasing_id())\n",
    "                  .cast(\"string\")) \\\n",
    "                  .select(\"Care_Plan_Dimension_ID\", *dim_care_plan_df.columns[0:])"
   ]
  },
  {
   "cell_type": "code",
   "execution_count": 23,
   "id": "51bb28e2",
   "metadata": {},
   "outputs": [],
   "source": [
    "# Criação da tabela de factos Care Plan per Child\n",
    "\n",
    "# Juntar o ID da dimensão Date e Child\n",
    "cp_dc_df = dim_date_df \\\n",
    "          .join(dim_child_df, dim_date_df.Children_Careplan_Id == dim_child_df.Children_Careplan_Id) \\\n",
    "          .select(\"Date_Dimension_ID\", \"Child_Dimension_ID\", dim_date_df.Children_Careplan_Id.alias(\"Children_Careplan_Id\"))\n",
    "\n",
    "# Juntar o ID da dimensão Care Plan\n",
    "cp_per_child_df = cp_dc_df \\\n",
    "                  .join(dim_care_plan_df, cp_dc_df.Children_Careplan_Id == dim_care_plan_df.Children_Careplan_Id) \\\n",
    "                  .select(\"Date_Dimension_ID\", \"Child_Dimension_ID\", \"Care_Plan_Dimension_ID\")\n",
    "\n",
    "# Criação de uma coluna com valor 1 em todas as linhas que simboliza que a criança esteve num Care Plan\n",
    "cp_per_child_df = cp_per_child_df.withColumn(\"Child_with_CP\", lit(1))"
   ]
  },
  {
   "cell_type": "code",
   "execution_count": 24,
   "id": "5e398b71",
   "metadata": {},
   "outputs": [],
   "source": [
    "# Remover colunas desnecessárias\n",
    "dim_date_df.drop(\"Children_Careplan_Id\")\n",
    "dim_child_df.drop(\"Children_Careplan_Id\")\n",
    "dim_care_plan_df.drop(\"Children_Careplan_Id\")\n",
    "\n",
    "# Escrever para a tabela delta\n",
    "dim_date_df.write \\\n",
    "           .format(\"delta\") \\\n",
    "           .mode(\"overwrite\") \\\n",
    "           .option(\"overwriteSchema\", \"true\") \\\n",
    "           .save(\"hdfs://hdfs-nn:9000/warehouse/Projeto.db/dim_date\")\n",
    "\n",
    "#dim_data_df.toPandas()\n",
    "\n",
    "dim_child_df.write \\\n",
    "            .format(\"delta\") \\\n",
    "            .mode(\"overwrite\") \\\n",
    "            .option(\"overwriteSchema\", \"true\") \\\n",
    "            .save(\"hdfs://hdfs-nn:9000/warehouse/Projeto.db/dim_child\")\n",
    "\n",
    "#dim_child_df.toPandas()\n",
    "\n",
    "dim_care_plan_df.write \\\n",
    "                .format(\"delta\") \\\n",
    "                .mode(\"overwrite\") \\\n",
    "                .option(\"overwriteSchema\", \"true\") \\\n",
    "                .save(\"hdfs://hdfs-nn:9000/warehouse/Projeto.db/dim_care_plan\")\n",
    "\n",
    "#dim_care_plan_df.toPandas()\n",
    "\n",
    "cp_per_child_df.write \\\n",
    "               .format(\"delta\") \\\n",
    "               .mode(\"overwrite\") \\\n",
    "               .option(\"overwriteSchema\", \"true\") \\\n",
    "               .save(\"hdfs://hdfs-nn:9000/warehouse/Projeto.db/cp_per_child\")"
   ]
  },
  {
   "cell_type": "code",
   "execution_count": 25,
   "id": "58add3da",
   "metadata": {},
   "outputs": [],
   "source": [
    "spark.stop()"
   ]
  }
 ],
 "metadata": {
  "kernelspec": {
   "display_name": "Python 3 (ipykernel)",
   "language": "python",
   "name": "python3"
  },
  "language_info": {
   "codemirror_mode": {
    "name": "ipython",
    "version": 3
   },
   "file_extension": ".py",
   "mimetype": "text/x-python",
   "name": "python",
   "nbconvert_exporter": "python",
   "pygments_lexer": "ipython3",
   "version": "3.11.5"
  }
 },
 "nbformat": 4,
 "nbformat_minor": 5
}
