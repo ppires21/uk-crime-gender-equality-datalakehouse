{
 "cells": [
  {
   "cell_type": "code",
   "execution_count": 1,
   "id": "palestinian-istanbul",
   "metadata": {},
   "outputs": [],
   "source": [
    "from pyspark.sql import SparkSession, Row, DataFrame, functions as F\n",
    "from pyspark.sql.functions import split, col, when, monotonically_increasing_id, concat, lit\n",
    "from pyspark.sql.types import StringType, StructField, StructType, IntegerType, FloatType\n",
    "from pyspark.sql.functions import col, trim, lit, monotonically_increasing_id\n",
    "from delta import *\n",
    "from pyspark.sql import functions as F\n",
    "from pyspark.sql.functions import col, monotonically_increasing_id\n",
    "\n",
    "warehouse_location = 'hdfs://hdfs-nn:9000/warehouse'\n",
    "\n",
    "builder = SparkSession \\\n",
    "    .builder \\\n",
    "    .master(\"local[2]\") \\\n",
    "    .appName(\"Python Spark DataFrames and SQL\") \\\n",
    "    .config(\"spark.sql.warehouse.dir\", warehouse_location) \\\n",
    "    .config(\"hive.metastore.uris\", \"thrift://hive-metastore:9083\") \\\n",
    "    .config(\"spark.sql.extensions\", \"io.delta.sql.DeltaSparkSessionExtension\") \\\n",
    "    .config(\"spark.sql.catalog.spark_catalog\", \"org.apache.spark.sql.delta.catalog.DeltaCatalog\") \\\n",
    "    .config(\"spark.jars.packages\", \"io.delta:delta-core_2.12:2.4.0\") \\\n",
    "    .enableHiveSupport() \\\n",
    "\n",
    "spark = configure_spark_with_delta_pip(builder).getOrCreate()"
   ]
  },
  {
   "cell_type": "code",
   "execution_count": 2,
   "id": "fc522aa9-7280-4961-aa8d-baa9803d058c",
   "metadata": {},
   "outputs": [],
   "source": [
    "#==============================HOMICIDE_DATASET==============================="
   ]
  },
  {
   "cell_type": "code",
   "execution_count": 3,
   "id": "7b4616b8-8976-4ba3-9b39-ae6d373ec13d",
   "metadata": {},
   "outputs": [],
   "source": [
    "#Criação dos dataframes\n",
    "hdfs_path_Homicide_Victim = \"hdfs://hdfs-nn:9000/Datasets/Bronze/Homicide_Dataset/Homicide_Victim_2003_March_2023.csv\"\n",
    "hdfs_path_Homicide_Proceeded = \"hdfs://hdfs-nn:9000/Datasets/Bronze/Homicide_Dataset/Homicide_Proceeded_Victim_2003_March_2023.csv\"\n",
    "\n"
   ]
  },
  {
   "cell_type": "code",
   "execution_count": 4,
   "id": "eee45f90-71c8-431d-ab1b-1a6b227c7e0a",
   "metadata": {},
   "outputs": [],
   "source": [
    "#Colocação das tabelas nos dataframes\n",
    "\n",
    "Homicide_Victim_df = spark.read.option(\"delimiter\",\",\").option(\"header\",\"true\").csv(hdfs_path_Homicide_Victim)\n",
    "Homicide_Proceeded_df = spark.read.option(\"delimiter\",\",\").option(\"header\",\"true\").csv(hdfs_path_Homicide_Proceeded)"
   ]
  },
  {
   "cell_type": "code",
   "execution_count": 5,
   "id": "5b1105a3-5dac-4f52-853a-b89f176a56f5",
   "metadata": {},
   "outputs": [],
   "source": [
    "#Colocar o caracter \"_\" nos nomes das colunas no lugar dos espaços (em ambos os ficheiros CSV)\n",
    "\n",
    "def rename_columns(dataframe: DataFrame) -> DataFrame:\n",
    "    for column in dataframe.columns:  \n",
    "        new_column_name = column.replace(\" \", \"_\")\n",
    "        dataframe = dataframe.withColumnRenamed(column, new_column_name) \n",
    "    return dataframe\n",
    "    \n",
    "Homicide_Victim_df = rename_columns(Homicide_Victim_df)\n",
    "\n",
    "def rename_columns(dataframe: DataFrame) -> DataFrame:\n",
    "    for column in dataframe.columns: \n",
    "        new_column_name = column.replace(\" \", \"_\")  \n",
    "        dataframe = dataframe.withColumnRenamed(column, new_column_name)  \n",
    "    return dataframe\n",
    "\n",
    "Homicide_Proceeded_df = rename_columns(Homicide_Proceeded_df)"
   ]
  },
  {
   "cell_type": "code",
   "execution_count": 6,
   "id": "56814179-5e35-46e5-90fb-d7d8d789a1f6",
   "metadata": {},
   "outputs": [],
   "source": [
    "#Alterações de nomes de colunas/tipos de dados\n",
    "\n",
    "#Para a Homicide_Victim\n",
    "\n",
    "Homicide_Victim_df = Homicide_Victim_df.withColumnRenamed(\"Sex\", \"Victim_Gender\")\n",
    "Homicide_Victim_df = Homicide_Victim_df.withColumn(\"Count_of_Victims\", col(\"Count_of_Victims\").cast(\"int\"))\n",
    "\n",
    "#Para a Homicide_Proceeded\n",
    "\n",
    "Homicide_Proceeded_df = Homicide_Proceeded_df.withColumnRenamed(\"Gender\", \"Agressor_Gender\")\n",
    "Homicide_Proceeded_df = Homicide_Proceeded_df.withColumnRenamed(\"Charged/Summonsed\", \"Charged_Summonsed\")\n",
    "Homicide_Proceeded_df = Homicide_Proceeded_df.withColumnRenamed(\"Count_of_PPA\", \"People_Accused_Count\")\n",
    "Homicide_Proceeded_df = Homicide_Proceeded_df.withColumn(\"People_Accused_Count\", col(\"People_Accused_Count\").cast(\"int\"))\n"
   ]
  },
  {
   "cell_type": "code",
   "execution_count": 7,
   "id": "d00795e0-1c3c-47d8-a1bd-d5ef10263bee",
   "metadata": {},
   "outputs": [],
   "source": [
    "#Remoção de linhas dispensáveis à análise (linhas que não contém informação sobre género)\n",
    "\n",
    "Homicide_Victim_df = Homicide_Victim_df.filter(col(\"Victim_Gender\") != \"Unrecorded\")\n",
    "Homicide_Proceeded_df = Homicide_Proceeded_df.filter(col(\"Agressor_Gender\") != \"Unrecorded\")"
   ]
  },
  {
   "cell_type": "code",
   "execution_count": 8,
   "id": "43d10745-b3ff-469f-8125-06fe38dfa80a",
   "metadata": {},
   "outputs": [],
   "source": [
    "#Dividir as datas para colunas com mês e ano\n",
    "\n",
    "#Para \"Recorded_Date\" da \"Homicide_Victim\"\n",
    "\n",
    "split_date = split(col(\"Recorded_Date\"), \"-\")\n",
    "Homicide_Victim_df = Homicide_Victim_df.withColumn(\"Recorded_Month\", when(split_date[0] == \"Jan\", 1)\n",
    "                                       .when(split_date[0] == \"Feb\", 2)\n",
    "                                       .when(split_date[0] == \"Mar\", 3)\n",
    "                                       .when(split_date[0] == \"Apr\", 4)\n",
    "                                       .when(split_date[0] == \"May\", 5)\n",
    "                                       .when(split_date[0] == \"Jun\", 6)\n",
    "                                       .when(split_date[0] == \"Jul\", 7)\n",
    "                                       .when(split_date[0] == \"Aug\", 8)\n",
    "                                       .when(split_date[0] == \"Sep\", 9)\n",
    "                                       .when(split_date[0] == \"Oct\", 10)\n",
    "                                       .when(split_date[0] == \"Nov\", 11)\n",
    "                                       .when(split_date[0] == \"Dec\", 12)\n",
    "                                       .cast(\"int\"))\n",
    "\n",
    "# Colocar a coluna para o ano, transformando-o em ano de 4 dígitos (Ex: 2003 ao invés de 03)  \n",
    "Homicide_Victim_df = Homicide_Victim_df.withColumn(\"Recorded_Year\", (split_date[1].cast(\"int\") + 2000))\n",
    "\n",
    "\n",
    "# Processo semelhante para a \"Proceedings_Date\" da \"Homicide_Proceeded\"\n",
    "\n",
    "split_date = split(col(\"Proceedings_Date\"), \"-\")\n",
    "Homicide_Proceeded_df = Homicide_Proceeded_df.withColumn(\"Proceedings_Month\", when(split_date[0] == \"Jan\", 1)\n",
    "                                       .when(split_date[0] == \"Feb\", 2)\n",
    "                                       .when(split_date[0] == \"Mar\", 3)\n",
    "                                       .when(split_date[0] == \"Apr\", 4)\n",
    "                                       .when(split_date[0] == \"May\", 5)\n",
    "                                       .when(split_date[0] == \"Jun\", 6)\n",
    "                                       .when(split_date[0] == \"Jul\", 7)\n",
    "                                       .when(split_date[0] == \"Aug\", 8)\n",
    "                                       .when(split_date[0] == \"Sep\", 9)\n",
    "                                       .when(split_date[0] == \"Oct\", 10)\n",
    "                                       .when(split_date[0] == \"Nov\", 11)\n",
    "                                       .when(split_date[0] == \"Dec\", 12)\n",
    "                                       .cast(\"int\"))\n",
    "                                               \n",
    "Homicide_Proceeded_df = Homicide_Proceeded_df.withColumn(\"Proceedings_Year\", (split_date[1].cast(\"int\") + 2000))\n"
   ]
  },
  {
   "cell_type": "code",
   "execution_count": 9,
   "id": "30be484d-3223-4534-9432-cecc652ad2a0",
   "metadata": {},
   "outputs": [],
   "source": [
    "#Adicionar uma coluna \"Tabela_ID\" (é uma boa prática ter uma chave artificial) com valores sequenciais \n",
    "\n",
    "#Para a \"Homicide_Victim\" (EX de ID: HV1, HV2)\n",
    "\n",
    "Homicide_Victim_df = Homicide_Victim_df.withColumn(\"Homicide_Victim_Id\", concat(lit(\"HV\"), monotonically_increasing_id()))\n",
    "columns_except_key = [col_name for col_name in Homicide_Victim_df.columns if col_name != \"Homicide_Victim_Id\"]\n",
    "Homicide_Victim_df = Homicide_Victim_df.select(\"Homicide_Victim_Id\", *columns_except_key)\n",
    "\n",
    "#Para a \"Homicide_Proceeded\" (EX de ID: HP1, HP2)\n",
    "\n",
    "Homicide_Proceeded_df = Homicide_Proceeded_df.withColumn(\"Homicide_Proceeded_ID\", concat(lit(\"HP\"), monotonically_increasing_id()))\n",
    "columns_except_key = [col_name for col_name in Homicide_Proceeded_df.columns if col_name != \"Homicide_Proceeded_ID\"]\n",
    "Homicide_Proceeded_df = Homicide_Proceeded_df.select(\"Homicide_Proceeded_ID\", *columns_except_key)"
   ]
  },
  {
   "cell_type": "code",
   "execution_count": 10,
   "id": "8c367463-6b3a-4cf3-bd36-1a2ad20a633f",
   "metadata": {},
   "outputs": [],
   "source": [
    "#Location para coerencia com o Crime_Dataset\n",
    "\n",
    "Homicide_Victim_df = Homicide_Victim_df.withColumn(\"Location\", F.lit(\"London\"))\n",
    "\n",
    "Homicide_Proceeded_df = Homicide_Proceeded_df.withColumn(\"Location\", F.lit(\"London\"))"
   ]
  },
  {
   "cell_type": "code",
   "execution_count": 11,
   "id": "780c06e5-c610-4565-b263-6c32a8cde54b",
   "metadata": {},
   "outputs": [],
   "source": [
    "# Colocar as idades uniformizadas com o Crime_Dataset\n",
    "\n",
    "# Para a \"Homicide_Victim\"\n",
    "\n",
    "Homicide_Victim_df = Homicide_Victim_df.withColumn(\n",
    "    \"Uniform_Age_Group\",\n",
    "    when(\n",
    "        (col(\"Age_Group\") == \"0 to 12\") | \n",
    "        (col(\"Age_Group\") == \"13 to 14\") | \n",
    "        (col(\"Age_Group\") == \"20 to 24\"), \"Youth 0-24 years\"\n",
    "    ).when(\n",
    "        col(\"Age_Group\") == \"25 to 34\", \"Adult 25-34 years\"\n",
    "    ).otherwise(\"Adult 35+ years\")\n",
    ")\n",
    "\n",
    "\n",
    "# Para a \"Homicide_Proceeded\" (Contém intervalos diferentes)\n",
    "\n",
    "Homicide_Proceeded_df = Homicide_Proceeded_df.withColumn(\n",
    "    \"Uniform_Age_Group\",\n",
    "    when(\n",
    "        (col(\"Age_Group\") == \"10 to 14\") | \n",
    "        (col(\"Age_Group\") == \"15 to 19\") | \n",
    "        (col(\"Age_Group\") == \"20 to 24\"), \"Youth 0-24 years\"\n",
    "    ).when(\n",
    "        (col(\"Age_Group\") == \"25 to 29\") |\n",
    "        (col(\"Age_Group\") == \"30 to 34\"), \"Adult 25-34 years\"\n",
    "    ).otherwise(\"Adult 35+ years\")\n",
    ")"
   ]
  },
  {
   "cell_type": "code",
   "execution_count": 12,
   "id": "ab1fec31-ec70-47e7-a864-f92bb740e1ec",
   "metadata": {},
   "outputs": [],
   "source": [
    "#Corrigir erro do espaço em Female\n",
    "\n",
    "def replace_values(df, column_name):\n",
    "    return df.withColumn(column_name, \n",
    "                         when(col(column_name) == \"Female \", \"Female\")\n",
    "                         .otherwise(col(column_name)))\n",
    "\n",
    "Homicide_Victim_df = replace_values(Homicide_Victim_df, \"Victim_Gender\")\n",
    "\n",
    "Homicide_Proceeded_df = replace_values(Homicide_Proceeded_df, \"Agressor_Gender\")"
   ]
  },
  {
   "cell_type": "code",
   "execution_count": 15,
   "id": "43f8fac2-53fc-4a93-9acd-9de6a2a8d799",
   "metadata": {},
   "outputs": [],
   "source": [
    "Homicide_Victim_df \\\n",
    "    .write \\\n",
    "    .mode(\"overwrite\") \\\n",
    "    .partitionBy(\"Borough\") \\\n",
    "    .option(\"mergeSchema\", \"true\") \\\n",
    "    .format(\"delta\") \\\n",
    "    .saveAsTable(\"Projeto.Homicide_Victim_table\")"
   ]
  },
  {
   "cell_type": "code",
   "execution_count": 16,
   "id": "9570b2fe-1950-44da-9142-ccb5d9b782bf",
   "metadata": {},
   "outputs": [],
   "source": [
    "Homicide_Proceeded_df.write \\\n",
    "    .mode(\"overwrite\") \\\n",
    "    .partitionBy(\"Borough\") \\\n",
    "    .format(\"delta\") \\\n",
    "    .option(\"mergeSchema\",\"true\") \\\n",
    "    .saveAsTable(\"Projeto.Homicide_Proceeded_table\")"
   ]
  },
  {
   "cell_type": "code",
   "execution_count": 17,
   "id": "7aa59b47-06bc-49ce-8fa6-98d8615e1a6e",
   "metadata": {},
   "outputs": [],
   "source": [
    "#======================================================Transformações GOLD======================================================"
   ]
  },
  {
   "cell_type": "code",
   "execution_count": 18,
   "id": "4bc96a2c-b408-4411-987c-ea31306f0135",
   "metadata": {},
   "outputs": [],
   "source": [
    "def replace_values(df):\n",
    "    return df.withColumn(\"Borough\", \n",
    "                         when(col(\"Borough\") == \"Kingston Upon Thames\", \"Kingston upon Thames\")\n",
    "                         .when(col(\"Borough\") == \"Hammersmith & Fulham\", \"Hammersmith and Fulham\")\n",
    "                         .when(col(\"Borough\") == \"Richmond Upon Thames\", \"Richmond upon Thames\")\n",
    "                         .when(col(\"Borough\") == \"Kensington & Chelsea\", \"Kensington and Chelsea\")\n",
    "                         .when(col(\"Borough\") == \"Barking & Dagenham\", \"Barking and Dagenham\")\n",
    "                         .when(col(\"Borough\") == \"Ealing \", \"Ealing\") \n",
    "                         .otherwise(col(\"Borough\")))\n",
    "\n",
    "# Aplicar as substituições\n",
    "Homicide_Victim_df = replace_values(Homicide_Victim_df)\n",
    "Homicide_Proceeded_df = replace_values(Homicide_Proceeded_df)"
   ]
  },
  {
   "cell_type": "code",
   "execution_count": 19,
   "id": "5c17c724-de7a-40f2-b1f3-df4c066cfb67",
   "metadata": {},
   "outputs": [],
   "source": [
    "# -----------Criar Dataframes de dimensão necessários e colocar lá dados"
   ]
  },
  {
   "cell_type": "code",
   "execution_count": 20,
   "id": "9225aac8-77c2-4dc7-a94c-21c32072ddf1",
   "metadata": {},
   "outputs": [],
   "source": [
    "#----- Person\n",
    "\n",
    "#Colocação dos dados distintos do dataframe da tabela Person\n",
    "Person_df_victim = (Homicide_Victim_df\n",
    "                    .select(\n",
    "                        col(\"Victim_Gender\").alias(\"Gender\"),\n",
    "                        col(\"Uniform_Age_Group\").alias(\"Age_Group\"),\n",
    "                        col(\"Officer_Observed_Ethnicity\").alias(\"Ethnicity\"))\n",
    "                    .distinct())\n",
    "\n",
    "Person_df_proceeded = (Homicide_Proceeded_df\n",
    "                       .select(\n",
    "                           col(\"Agressor_Gender\").alias(\"Gender\"),\n",
    "                           col(\"Uniform_Age_Group\").alias(\"Age_Group\"),\n",
    "                           col(\"Self_Classified_Ethnicity\").alias(\"Ethnicity\"))\n",
    "                       .distinct())\n",
    "\n",
    "combined_persons = Person_df_victim.union(Person_df_proceeded).distinct()\n",
    "\n",
    "# Adicionar um ID único e sequencial a cada entrada\n",
    "Person_df = combined_persons.withColumn(\"Id_Person\", monotonically_increasing_id())\n",
    "Person_df = Person_df.withColumn(\"Id_Person\", col(\"Id_Person\").cast(\"int\"))\n"
   ]
  },
  {
   "cell_type": "code",
   "execution_count": 21,
   "id": "d8304a15-fbc4-446b-af21-9dac170fd1f5",
   "metadata": {},
   "outputs": [],
   "source": [
    "# ----- Date\n",
    "\n",
    "#Colocação dos dados distintos do dataframe da tabela Date\n",
    "Date_df_victim = (Homicide_Victim_df\n",
    "                  .select(\n",
    "                      col(\"Recorded_Year\").alias(\"Year\"),\n",
    "                      col(\"Recorded_Month\").alias(\"Month\"))\n",
    "                  .distinct())\n",
    "\n",
    "Date_df_proceeded = (Homicide_Proceeded_df\n",
    "                     .select(\n",
    "                         col(\"Proceedings_Year\").alias(\"Year\"),\n",
    "                         col(\"Proceedings_Month\").alias(\"Month\"))\n",
    "                     .distinct())\n",
    "\n",
    "new_dates = Date_df_proceeded.join(Date_df_victim, [\"Year\", \"Month\"], \"left_anti\")\n",
    "Date_df = Date_df_victim.union(new_dates).distinct()\n",
    "\n",
    "Date_df = Date_df.withColumn(\"Id_Date\", monotonically_increasing_id())\n",
    "Date_df = Date_df.withColumn(\"Id_Date\", col(\"Id_Date\").cast(\"int\"))"
   ]
  },
  {
   "cell_type": "code",
   "execution_count": 22,
   "id": "51151c8e-9b80-4bbe-bd24-cf737712b190",
   "metadata": {},
   "outputs": [],
   "source": [
    "# ----- Location\n",
    "\n",
    "#Colocação dos dados distintos do dataframe da tabela Location\n",
    "Location_df_victim = (Homicide_Victim_df\n",
    "                      .select(\n",
    "                          trim(col(\"Location\")).alias(\"Location\"),\n",
    "                          trim(col(\"Borough\")).alias(\"Borough\"))\n",
    "                      .distinct())\n",
    "\n",
    "Location_df_proceeded = (Homicide_Proceeded_df\n",
    "                         .select(\n",
    "                             trim(col(\"Location\")).alias(\"Location\"),\n",
    "                             trim(col(\"Borough\")).alias(\"Borough\"))\n",
    "                         .distinct())\n",
    "\n",
    "new_locations = Location_df_proceeded.join(Location_df_victim, [\"Location\", \"Borough\"], \"left_anti\")\n",
    "Location_df = Location_df_victim.union(new_locations).distinct()\n",
    "\n",
    "Location_df = Location_df.withColumn(\"Id_Location\", monotonically_increasing_id())\n",
    "Location_df = Location_df.withColumn(\"Id_Location\", col(\"Id_Location\").cast(\"int\"))"
   ]
  },
  {
   "cell_type": "code",
   "execution_count": 23,
   "id": "087376a6-df1c-4d7d-bb19-00e22ed1d04c",
   "metadata": {},
   "outputs": [],
   "source": [
    "# ----- Homicides\n",
    "Homicides_df = (Homicide_Victim_df\n",
    "                .select(\n",
    "                    col(\"Homicide_Victim_Id\").alias(\"Id_Homicide\"),\n",
    "                    col(\"Method_of_Killing\").alias(\"Method_Of_Killing\"),\n",
    "                    col(\"Domestic_Abuse\"),\n",
    "                    col(\"Homicide_Offence_Type\").alias(\"Offense_Type\"),\n",
    "                    col(\"Solved_Status\"))\n",
    "                .distinct())"
   ]
  },
  {
   "cell_type": "code",
   "execution_count": 24,
   "id": "9531162f-e0b0-4954-823e-81ce7b4dacd3",
   "metadata": {},
   "outputs": [],
   "source": [
    "# -----------Associar os dados das dimensões com os da tabela de factos"
   ]
  },
  {
   "cell_type": "code",
   "execution_count": 25,
   "id": "0c8b2ec9-e2be-4a9a-925e-fc0931cd3a18",
   "metadata": {},
   "outputs": [],
   "source": [
    "# ----- Person\n",
    "\n",
    "# Associar Homicide_Victim_df com Person_df para obter Id_Person\n",
    "Homicide_Facts_df = Homicide_Victim_df.join(\n",
    "    Person_df,\n",
    "    (Homicide_Victim_df.Victim_Gender == Person_df.Gender) &\n",
    "    (Homicide_Victim_df.Uniform_Age_Group == Person_df.Age_Group) &\n",
    "    (Homicide_Victim_df.Officer_Observed_Ethnicity == Person_df.Ethnicity),  # Incluindo etnia na condição de junção\n",
    "    \"left\"\n",
    ").select(\n",
    "    col(\"Homicide_Victim_ID\").alias(\"ID_Homicide\"),\n",
    "    col(\"Id_Person\"),\n",
    "    col(\"Solved_Status\"),\n",
    "    col(\"Count_of_Victims\"),\n",
    "    col(\"Recorded_Year\"),\n",
    "    col(\"Recorded_Month\"),\n",
    "    col(\"Location\"),\n",
    "    col(\"Borough\"),\n",
    "    col(\"Method_of_Killing\"),\n",
    "    col(\"Domestic_Abuse\"),\n",
    "    col(\"Homicide_Offence_Type\")\n",
    ")\n",
    "\n",
    "\n",
    "# Associar Homicide_Proceeded_df com Person_df para obter Id_Person\n",
    "Proceeded_Facts_df = Homicide_Proceeded_df.join(\n",
    "    Person_df,\n",
    "    (Homicide_Proceeded_df.Agressor_Gender == Person_df.Gender) &\n",
    "    (Homicide_Proceeded_df.Uniform_Age_Group == Person_df.Age_Group) &\n",
    "    (Homicide_Proceeded_df.Self_Classified_Ethnicity == Person_df.Ethnicity),  # Incluindo etnia na condição de junção\n",
    "    \"left\"\n",
    ").select(\n",
    "    col(\"Homicide_Proceeded_ID\").alias(\"ID_Proceeded\"),  \n",
    "    col(\"Id_Person\"),\n",
    "    col(\"Proceedings_Year\"),\n",
    "    col(\"Proceedings_Month\"),\n",
    "    col(\"Location\"),\n",
    "    col(\"Borough\"),\n",
    "    col(\"Offence_Type\"),\n",
    "    col(\"People_Accused_Count\"), \n",
    "    col(\"Offence_Type\"), \n",
    "    col (\"Charged_Summonsed\")\n",
    ")"
   ]
  },
  {
   "cell_type": "code",
   "execution_count": 27,
   "id": "23437c79-c413-49dc-ba6b-538f5b49da46",
   "metadata": {},
   "outputs": [],
   "source": [
    "# ----- Date\n",
    "\n",
    "# Associar com Date_df para obter Id_Data\n",
    "Homicide_Facts_df = Homicide_Facts_df.join(\n",
    "    Date_df,\n",
    "    (Homicide_Facts_df.Recorded_Year == Date_df.Year) &\n",
    "    (Homicide_Facts_df.Recorded_Month == Date_df.Month),\n",
    "    \"left\"\n",
    ").select(\n",
    "    \"ID_Homicide\", \"Id_Person\", \"Id_Date\",\n",
    "    \"Solved_Status\", \"Count_of_Victims\",\n",
    "    \"Location\", \"Borough\", \"Method_of_Killing\", \"Domestic_Abuse\", \"Homicide_Offence_Type\"\n",
    ")\n",
    "\n",
    "\n",
    "# Associar com Date_df para obter Id_Date\n",
    "Proceeded_Facts_df = Proceeded_Facts_df.join(\n",
    "    Date_df,\n",
    "    (Proceeded_Facts_df.Proceedings_Year == Date_df.Year) &\n",
    "    (Proceeded_Facts_df.Proceedings_Month == Date_df.Month),\n",
    "    \"left\"\n",
    ").select(\n",
    "    \"ID_Proceeded\", \"Id_Person\", \"Id_Date\", \"Offence_Type\", \"Charged_Summonsed\",\n",
    "    \"Location\", \"Borough\", \"Offence_Type\", \"People_Accused_Count\"\n",
    ")"
   ]
  },
  {
   "cell_type": "code",
   "execution_count": 30,
   "id": "a00c5e45-17ff-413b-8d81-479d5b3cd71d",
   "metadata": {},
   "outputs": [],
   "source": [
    "# ----- Location\n",
    "\n",
    "# Associar com Location_df para obter Id_Location\n",
    "Homicide_Facts_df = Homicide_Facts_df.join(\n",
    "    Location_df,\n",
    "    (Homicide_Facts_df.Location == Location_df.Location) &\n",
    "    (Homicide_Facts_df.Borough == Location_df.Borough),\n",
    "    \"left\"\n",
    ").select(\n",
    "    \"ID_Homicide\", \"Id_Person\", \"Id_Date\", \"Id_Location\",\n",
    "    \"Solved_Status\", \"Count_of_Victims\",\n",
    "    \"Method_of_Killing\", \"Domestic_Abuse\", \"Homicide_Offence_Type\"\n",
    ")\n",
    "\n",
    "\n",
    "# Associar com Location_df para obter Id_Location\n",
    "Proceeded_Facts_df = Proceeded_Facts_df.join(\n",
    "    Location_df,\n",
    "    (Proceeded_Facts_df.Location == Location_df.Location) &\n",
    "    (Proceeded_Facts_df.Borough == Location_df.Borough),\n",
    "    \"left\"\n",
    ").select(\n",
    "    \"ID_Proceeded\", \"Id_Person\", \"Id_Date\", \"Id_Location\",\n",
    "    \"Offence_Type\", \"People_Accused_Count\", \"Charged_Summonsed\"\n",
    ")\n",
    "\n"
   ]
  },
  {
   "cell_type": "code",
   "execution_count": 31,
   "id": "1cb4e51c-c7ed-4ad7-84ae-3d8ebbecb259",
   "metadata": {},
   "outputs": [],
   "source": [
    "# Novo facto: Valor da percentagem total\n",
    "\n",
    "total_rowsHomicide = Homicide_Facts_df.count()\n",
    "percentage_of_total_victims = (1 / total_rowsHomicide) * 100\n",
    "Homicide_Facts_df = Homicide_Facts_df.withColumn(\"Percentage_of_Total_Victims\", lit(percentage_of_total_victims))\n",
    "\n",
    "total_rowsProceeded = Proceeded_Facts_df.count()\n",
    "percentage_of_total_proceeds = (1 / total_rowsProceeded) * 100\n",
    "Proceeded_Facts_df = Proceeded_Facts_df.withColumn(\"Percentage_of_Total_Proceeds\", lit(percentage_of_total_proceeds))"
   ]
  },
  {
   "cell_type": "code",
   "execution_count": 45,
   "id": "b8e63cea-31c1-498c-93d2-50fa0427a924",
   "metadata": {},
   "outputs": [],
   "source": [
    "Person_df \\\n",
    "    .write \\\n",
    "    .mode(\"overwrite\") \\\n",
    "    .option(\"mergeSchema\", \"true\") \\\n",
    "    .format(\"delta\") \\\n",
    "    .saveAsTable(\"Projeto.Person_table\")"
   ]
  },
  {
   "cell_type": "code",
   "execution_count": 46,
   "id": "e9a7f580-8d8f-4867-80e3-4121b739f214",
   "metadata": {},
   "outputs": [],
   "source": [
    "Date_df \\\n",
    "    .write \\\n",
    "    .mode(\"overwrite\") \\\n",
    "    .option(\"mergeSchema\", \"true\") \\\n",
    "    .format(\"delta\") \\\n",
    "    .saveAsTable(\"Projeto.Date_table\")"
   ]
  },
  {
   "cell_type": "code",
   "execution_count": 47,
   "id": "34d19a12-0c9c-4267-8f9c-76a22a19103b",
   "metadata": {},
   "outputs": [],
   "source": [
    "Location_df \\\n",
    "    .write \\\n",
    "    .mode(\"overwrite\") \\\n",
    "    .option(\"mergeSchema\", \"true\") \\\n",
    "    .format(\"delta\") \\\n",
    "    .saveAsTable(\"Projeto.Location_table\")"
   ]
  },
  {
   "cell_type": "code",
   "execution_count": 48,
   "id": "5ed07206-c35f-4195-bfc9-5a09242cdfb8",
   "metadata": {},
   "outputs": [],
   "source": [
    "Homicides_df \\\n",
    "    .write \\\n",
    "    .mode(\"overwrite\") \\\n",
    "    .option(\"mergeSchema\", \"true\") \\\n",
    "    .format(\"delta\") \\\n",
    "    .saveAsTable(\"Projeto.Homicides_table\")"
   ]
  },
  {
   "cell_type": "code",
   "execution_count": 49,
   "id": "75470e1f-1516-419d-a286-a822bd2b8e53",
   "metadata": {},
   "outputs": [],
   "source": [
    "Homicide_Facts_df \\\n",
    "    .write \\\n",
    "    .mode(\"overwrite\") \\\n",
    "    .option(\"mergeSchema\", \"true\") \\\n",
    "    .format(\"delta\") \\\n",
    "    .saveAsTable(\"Projeto.Homicide_Facts_table\")"
   ]
  },
  {
   "cell_type": "code",
   "execution_count": 50,
   "id": "745c1d97-6d93-4fc5-bbdd-ee180492ff47",
   "metadata": {},
   "outputs": [],
   "source": [
    "Proceeded_Facts_df \\\n",
    "    .write \\\n",
    "    .mode(\"overwrite\") \\\n",
    "    .option(\"mergeSchema\", \"true\") \\\n",
    "    .format(\"delta\") \\\n",
    "    .saveAsTable(\"Projeto.Proceeded_Facts_table\")"
   ]
  },
  {
   "cell_type": "code",
   "execution_count": null,
   "id": "cf094c98-c496-40e2-a1ff-1de30d21ba1b",
   "metadata": {},
   "outputs": [],
   "source": [
    "spark.stop()"
   ]
  }
 ],
 "metadata": {
  "kernelspec": {
   "display_name": "Python 3 (ipykernel)",
   "language": "python",
   "name": "python3"
  },
  "language_info": {
   "codemirror_mode": {
    "name": "ipython",
    "version": 3
   },
   "file_extension": ".py",
   "mimetype": "text/x-python",
   "name": "python",
   "nbconvert_exporter": "python",
   "pygments_lexer": "ipython3",
   "version": "3.11.5"
  }
 },
 "nbformat": 4,
 "nbformat_minor": 5
}
