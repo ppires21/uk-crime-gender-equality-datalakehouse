{
 "cells": [
  {
   "cell_type": "code",
   "execution_count": null,
   "id": "2a46064a-5cc3-4d50-9389-2f110f8db789",
   "metadata": {},
   "outputs": [],
   "source": [
    "from pyspark.sql import SparkSession\n",
    "from pyspark.sql import Row\n",
    "from delta import *\n",
    "from pyspark.sql.types import StringType, StructField, StructType, IntegerType, FloatType\n",
    "from pyspark.sql.functions import when, col, monotonically_increasing_id, concat, lit, expr\n",
    "\n",
    "# warehouse_location points to the default location for managed databases and tables\n",
    "warehouse_location = 'hdfs://hdfs-nn:9000/warehouse'\n",
    "\n",
    "builder = SparkSession \\\n",
    "    .builder \\\n",
    "    .master(\"local[2]\") \\\n",
    "    .appName(\"Python Spark DataFrames and SQL\") \\\n",
    "    .config(\"spark.sql.warehouse.dir\", warehouse_location) \\\n",
    "    .config(\"hive.metastore.uris\", \"thrift://hive-metastore:9083\") \\\n",
    "    .config(\"spark.sql.extensions\", \"io.delta.sql.DeltaSparkSessionExtension\") \\\n",
    "    .config(\"spark.sql.catalog.spark_catalog\", \"org.apache.spark.sql.delta.catalog.DeltaCatalog\") \\\n",
    "    .config(\"spark.jars.packages\", \"io.delta:delta-core_2.12:2.4.0\") \\\n",
    "    .enableHiveSupport() \\\n",
    "\n",
    "spark = configure_spark_with_delta_pip(builder).getOrCreate()"
   ]
  },
  {
   "cell_type": "code",
   "execution_count": null,
   "id": "0681ed18-f0e0-4ad4-89c0-f50f35306807",
   "metadata": {},
   "outputs": [],
   "source": [
    "#-----------------------------------------Silver------------------------------------------------------"
   ]
  },
  {
   "cell_type": "code",
   "execution_count": null,
   "id": "414e66fc-143e-4b78-be8b-296d38cbedb0",
   "metadata": {},
   "outputs": [],
   "source": [
    "# Gender Data"
   ]
  },
  {
   "cell_type": "code",
   "execution_count": null,
   "id": "4890db12-9254-4a30-a91b-c4d3b6598f84",
   "metadata": {},
   "outputs": [],
   "source": [
    "hdfs_path = \"hdfs://hdfs-nn:9000/Datasets/Bronze/Gender_Stats_Dataset/Gender_Stats Data.csv\""
   ]
  },
  {
   "cell_type": "code",
   "execution_count": null,
   "id": "b6af65f2-b3cd-48dd-9928-705f161824b7",
   "metadata": {},
   "outputs": [],
   "source": [
    "#Renomear as colunas de modo a terem nomes que coincidam com o que se encontra nas respetivas linhas, substituindo os espaços\n",
    "#por _ . Alteração do formato de certas colunas e ler o csv com o \"customSchema\" definido\n",
    "common_fields = [\n",
    "    \"Country_Region_Situation_Name\",\n",
    "    \"Country_Region_Situation_Code\",\n",
    "    \"Indicator_Name\",\n",
    "    \"Indicator_Code\"\n",
    "]\n",
    "\n",
    "years_range = range(1960, 2023)\n",
    "\n",
    "fields = [\n",
    "    StructField(field, StringType() if field in common_fields else FloatType(), True)\n",
    "    for field in common_fields + [str(year) for year in years_range]\n",
    "]\n",
    "\n",
    "customSchema = StructType(fields)\n",
    "\n",
    "gender_stats_data_df = spark \\\n",
    "            .read\\\n",
    "            .option(\"delimiter\",\",\")\\\n",
    "            .option(\"header\",\"true\")\\\n",
    "            .schema(customSchema) \\\n",
    "            .csv(hdfs_path)"
   ]
  },
  {
   "cell_type": "code",
   "execution_count": null,
   "id": "aed5828f-b0a3-4513-81d3-607ac319fb87",
   "metadata": {},
   "outputs": [],
   "source": [
    "#Criação uma coluna com chaves artificiais com valores sequenciais, colocando-a em primeiro lugar (GSD = Gender Stats Data)\n",
    "gender_stats_data_df = (\n",
    "    gender_stats_data_df\n",
    "    .withColumn(\"Gender_Stats_Data_ID\", concat(lit(\"GSD\"), monotonically_increasing_id())\n",
    "    .cast(\"string\"))\n",
    "    .select(\"Gender_Stats_Data_ID\", *gender_stats_data_df.columns[0:])\n",
    ")"
   ]
  },
  {
   "cell_type": "code",
   "execution_count": null,
   "id": "3ea83efc-62e2-4761-93c3-b2cecde6f2d7",
   "metadata": {},
   "outputs": [],
   "source": [
    "#Criação de uma nova coluna referente ao genero quando encontradas certas palavras chave, colocando-a em sexto lugar \n",
    "#Cria coerência com os restantes datasets\n",
    "gender_stats_data_df = gender_stats_data_df.withColumn(\n",
    "    \"Gender\",\n",
    "    when(\n",
    "        (col(\"Indicator_Name\").contains(\"female\")) | (col(\"Indicator_Name\").contains(\"woman\")),\n",
    "        \"Female\"\n",
    "    ).when(\n",
    "        (col(\"Indicator_Name\").contains(\"male\")) | (col(\"Indicator_Name\").contains(\"man\")),\n",
    "        \"Male\"\n",
    "    ).otherwise(\"Both\")\n",
    "    .cast(\"string\")\n",
    ").select(\n",
    "    \"Gender_Stats_Data_ID\",\n",
    "    \"Country_Region_Situation_Name\",\n",
    "    \"Country_Region_Situation_Code\",\n",
    "    \"Indicator_Name\",\n",
    "    \"Indicator_Code\",\n",
    "    \"Gender\",\n",
    "    *gender_stats_data_df.columns[5:]\n",
    ")"
   ]
  },
  {
   "cell_type": "code",
   "execution_count": null,
   "id": "c1bf2a63-b0cc-4f5a-9a80-f6dbff4880be",
   "metadata": {},
   "outputs": [],
   "source": [
    "#Mapeamento de cada intervalo de idades, atribuindo-lhes uma label referntes ao grupo etário a que pertencem\n",
    "#Cria coerência com os restantes datasets\n",
    "age_group_mapping = {\n",
    "    \"00\": \"Youth 0-24 years\",\n",
    "    \"01\": \"Youth 0-24 years\",\n",
    "    \"02\": \"Youth 0-24 years\",\n",
    "    \"03\": \"Youth 0-24 years\",\n",
    "    \"04\": \"Youth 0-24 years\",\n",
    "    \"05\": \"Youth 0-24 years\",\n",
    "    \"0-4\": \"Youth 0-24 years\",\n",
    "    \"15-19\": \"Youth 0-24 years\",\n",
    "    \"5-14\": \"Youth 0-24 years\",\n",
    "    \"7-14\": \"Youth 0-24 years\",\n",
    "    \"15-24\": \"Youth 0-24 years\",\n",
    "    \"12-23\": \"Youth 0-24 years\",\n",
    "    \"-5\": \"Youth 0-24 years\",\n",
    "    \"-15\": \"Youth 0-24 years\",\n",
    "    \"by 15\": \"Youth 0-24 years\",\n",
    "    \"0-14\": \"Youth 0-24 years\",\n",
    "    \"5-9\": \"Youth 0-24 years\",\n",
    "    \"15-19\": \"Youth 0-24 years\",\n",
    "    \"20-24\": \"Youth 0-24 years\",\n",
    "    \"infant\": \"Youth 0-24 years\",\n",
    "    \"before 15\": \"Youth 0-24 years\",\n",
    "    \"before 18\": \"Youth 0-24 years\",\n",
    "    \"before 22\": \"Youth 0-24 years\",\n",
    "    \"25-29\": \"Adult 25-34 years\",\n",
    "    \"30-24\": \"Adult 25-34 years\",\n",
    "    \"35-39\": \"Adult 35+ years\",\n",
    "    \"40-44\": \"Adult 35+ years\",\n",
    "    \"45-49\": \"Adult 35+ years\",\n",
    "    \"50-54\": \"Adult 35+ years\",\n",
    "    \"55-59\": \"Adult 35+ years\",\n",
    "    \"60-64\": \"Adult 35+ years\",\n",
    "    \"65+\": \"Adult 35+ years\",\n",
    "    \"65-69\": \"Adult 35+ years\",\n",
    "    \"70-74\": \"Adult 35+ years\",\n",
    "    \"75-89\": \"Adult 35+ years\",\n",
    "    \"80+\": \"Adult 35+ years\",\n",
    "    \"45-54\": \"Adult 35+ years\",\n",
    "    \"55-64\": \"Adult 35+ years\",\n",
    "    \"35-44\": \"Adult 35+ years\",\n",
    "    \"60+\": \"Adult 35+ years\",\n",
    "    \"18+\": \"Every category\",\n",
    "    \"15+\": \"Every category\",\n",
    "    \"15-59\": \"Every category\",\n",
    "    \"15-49\": \"Every category\",\n",
    "    \"15-64\": \"Every category\",\n",
    "    \"25+\": \"All adult categories\",\n",
    "    \"30-70\": \"All adult categories\",\n",
    "    \"adult\": \"All adult categories\"\n",
    "}\n",
    "\n",
    "#Loop \"for\" que a cada a cada iteração sobre os itens do mapeamento anterior cria uma condição usando a função \"when\"\n",
    "condition = None\n",
    "for age_group, label in age_group_mapping.items():\n",
    "    if condition is None:\n",
    "        condition = when(col(\"Indicator_Name\").contains(age_group), label)\n",
    "    else:\n",
    "        condition = condition.when(col(\"Indicator_Name\").contains(age_group), label)\n",
    "\n",
    "#Criação de uma nova coluna baseada na condição criada para a coluna \"Indicator_Name\", colocando-a em sétimo lugar\n",
    "gender_stats_data_df = gender_stats_data_df.withColumn(\"Uniform_Age_Group\", condition).select(\n",
    "    \"Gender_Stats_Data_ID\",\n",
    "    \"Country_Region_Situation_Name\",\n",
    "    \"Country_Region_Situation_Code\",\n",
    "    \"Indicator_Name\",\n",
    "    \"Indicator_Code\",\n",
    "    \"Gender\",\n",
    "    \"Uniform_Age_Group\",\n",
    "    *gender_stats_data_df.columns[6:]\n",
    ")"
   ]
  },
  {
   "cell_type": "code",
   "execution_count": null,
   "id": "563e9c68-8959-4592-b336-5724229fa5f0",
   "metadata": {},
   "outputs": [],
   "source": [
    "gender_stats_data_df.write \\\n",
    "                    .mode(\"overwrite\") \\\n",
    "                    .partitionBy(\"Country_Region_Situation_Name\") \\\n",
    "                    .format(\"delta\") \\\n",
    "                    .option(\"overwriteSchema\", \"true\") \\\n",
    "                    .save(\"hdfs://hdfs-nn:9000/warehouse/Projeto.db/Gender_Stats_Data_table\")"
   ]
  },
  {
   "cell_type": "code",
   "execution_count": null,
   "id": "78b41114-80e4-49a4-85fc-9a6aec691ee4",
   "metadata": {},
   "outputs": [],
   "source": [
    "# Gender Series"
   ]
  },
  {
   "cell_type": "code",
   "execution_count": 2,
   "id": "fa36f7fd-59ae-43e9-88b1-c77f278e32df",
   "metadata": {},
   "outputs": [],
   "source": [
    "hdfs_path = \"hdfs://hdfs-nn:9000/Datasets/Bronze/Gender_Stats_Dataset/Gender_Stats Series.csv\""
   ]
  },
  {
   "cell_type": "code",
   "execution_count": 3,
   "id": "7de40fe3-84c3-44dc-b463-b8383e590e79",
   "metadata": {},
   "outputs": [],
   "source": [
    "gender_stats_series_df = spark.read.option(\"delimiter\",\",\").option(\"header\",\"true\").csv(hdfs_path)"
   ]
  },
  {
   "cell_type": "code",
   "execution_count": 4,
   "id": "39d1f0d5-de81-4cba-8439-bf1c22d7af72",
   "metadata": {},
   "outputs": [],
   "source": [
    "#Substitui os espaços nos nomes das colunas por _\n",
    "new_columns = [col(c).alias(c.replace(\" \", \"_\")) for c in gender_stats_series_df.columns]\n",
    "gender_stats_series_df = gender_stats_series_df.select(*new_columns)"
   ]
  },
  {
   "cell_type": "code",
   "execution_count": 5,
   "id": "5efab0d5-a242-4e4e-ae7d-1f157f382cb0",
   "metadata": {},
   "outputs": [],
   "source": [
    "#Criação uma coluna com chaves artificiais com valores sequenciais, colocando-a em primeiro lugar (GSS = Gender Stats Series)\n",
    "gender_stats_series_df = (\n",
    "    gender_stats_series_df\n",
    "    .withColumn(\"Gender_Stats_Series_ID\", concat(lit(\"GSS\"), monotonically_increasing_id())\n",
    "    .cast(\"string\"))\n",
    "    .select(\"Gender_Stats_Series_ID\", *gender_stats_series_df.columns[0:])\n",
    ")"
   ]
  },
  {
   "cell_type": "code",
   "execution_count": 6,
   "id": "23d16c21-c31e-4d58-b8b7-01825ddd55ce",
   "metadata": {},
   "outputs": [],
   "source": [
    "#Remoção da última coluna que não continha dados, apenas foi lida pela função \"read\" porque os dados no CSV terminam com o delimitador \",\"\n",
    "gender_stats_series_df = gender_stats_series_df.drop(\"_c20\")"
   ]
  },
  {
   "cell_type": "code",
   "execution_count": 7,
   "id": "18f3be55-050a-4b72-9676-bba6b6ea419f",
   "metadata": {},
   "outputs": [],
   "source": [
    "#Substituição dos dados em branco por uma frase que indica a inexistência de informação sobre esses respetivos dados\n",
    "gender_stats_series_df = gender_stats_series_df.na.fill('Criteria Not Available')"
   ]
  },
  {
   "cell_type": "code",
   "execution_count": 8,
   "id": "14e7c073-e9c5-4e98-9790-5ef58b08de61",
   "metadata": {},
   "outputs": [],
   "source": [
    "gender_stats_series_df.write \\\n",
    "                    .mode(\"overwrite\") \\\n",
    "                    .format(\"delta\") \\\n",
    "                    .save(\"hdfs://hdfs-nn:9000/warehouse/Projeto.db/Gender_Stats_Series_table\")"
   ]
  },
  {
   "cell_type": "code",
   "execution_count": null,
   "id": "79ea86b5-c52b-4662-9a27-dd405ac873db",
   "metadata": {},
   "outputs": [],
   "source": [
    "#-----------------------------------------Gold------------------------------------------------------"
   ]
  },
  {
   "cell_type": "code",
   "execution_count": 26,
   "id": "5627de33-6fe4-4976-be1a-0a9920283fe5",
   "metadata": {},
   "outputs": [],
   "source": [
    "# Ler os dados das tabelas de silver\n",
    "gender_stats_data_df = spark.table(\"Projeto.Gender_Stats_Data_table\")\n",
    "gender_stats_series_df = spark.table(\"Projeto.Gender_Stats_Series_table\")\n",
    "\n",
    "#Filtrar os dados \n",
    "gender_stats_data_df = gender_stats_data_df \\\n",
    "                       .filter(col(\"Indicator_Name\").contains(\"Mortality rate,\") |\n",
    "                               col(\"Indicator_Name\").contains(\"Number of infant deaths\") |\n",
    "                               col(\"Indicator_Name\").contains(\"Population ages\") |\n",
    "                               col(\"Indicator_Name\").contains(\"Intentional homicides\"))\n",
    "\n",
    "gender_stats_series_df = gender_stats_series_df \\\n",
    "                         .filter(col(\"Indicator_Name\").contains(\"Mortality rate,\") |\n",
    "                                 col(\"Indicator_Name\").contains(\"Number of infant deaths\") |\n",
    "                                 col(\"Indicator_Name\").contains(\"Population ages\") |\n",
    "                                 col(\"Indicator_Name\").contains(\"Intentional homicides\"))"
   ]
  },
  {
   "cell_type": "code",
   "execution_count": 27,
   "id": "5b3a8ef4-7b70-4042-8784-8e0729507ea2",
   "metadata": {},
   "outputs": [],
   "source": [
    "# Criar a dimensão Country\n",
    "dim_country_df = gender_stats_data_df \\\n",
    "                 .select(\"Country_Region_Situation_Name\", \n",
    "                         \"Country_Region_Situation_Code\") \\\n",
    "                 .distinct() \\\n",
    "                 .orderBy(\"Country_Region_Situation_Name\")\n",
    "\n",
    "#Criação uma coluna com chaves artificiais com valores sequenciais, colocando-a em primeiro lugar (CD = Country Dimension)\n",
    "dim_country_df = dim_country_df \\\n",
    "                .withColumn(\"Country_Dimension_ID\", concat(lit(\"CD\"), monotonically_increasing_id())\n",
    "                .cast(\"string\")) \\\n",
    "                .select(\"Country_Dimension_ID\", *dim_country_df.columns[0:])\n",
    "\n",
    "# Escrever para a tabela delta\n",
    "dim_country_df.write \\\n",
    "              .format(\"delta\") \\\n",
    "              .mode(\"overwrite\") \\\n",
    "              .option(\"overwriteSchema\", \"true\") \\\n",
    "              .save(\"hdfs://hdfs-nn:9000/warehouse/Projeto.db/dim_country\")"
   ]
  },
  {
   "cell_type": "code",
   "execution_count": 28,
   "id": "e16ed46b-40db-45e0-8e0c-78c511a6a24d",
   "metadata": {},
   "outputs": [],
   "source": [
    "# Criar a dimensão Temporal Measurement\n",
    "dim_temporal_measurement_df = gender_stats_series_df \\\n",
    "                             .select(\"Periodicity\",\n",
    "                                     \"Base_Period\") \\\n",
    "                             .distinct()\n",
    "\n",
    "#Criação uma coluna com chaves artificiais com valores sequenciais, colocando-a em primeiro lugar (TMD = Temporal Measurement Dimension)\n",
    "dim_temporal_measurement_df = dim_temporal_measurement_df \\\n",
    "                              .withColumn(\"Temporal_Measurement_ID\", concat(lit(\"TMD\"), monotonically_increasing_id())\n",
    "                              .cast(\"string\")) \\\n",
    "                              .select(\"Temporal_Measurement_ID\", *dim_temporal_measurement_df.columns[0:])\n",
    "\n",
    "# Escrever para a tabela delta\n",
    "dim_temporal_measurement_df.write \\\n",
    "                           .format(\"delta\") \\\n",
    "                           .mode(\"overwrite\") \\\n",
    "                           .option(\"overwriteSchema\", \"true\") \\\n",
    "                           .save(\"hdfs://hdfs-nn:9000/warehouse/Projeto.db/dim_temporal_measurement\")"
   ]
  },
  {
   "cell_type": "code",
   "execution_count": 29,
   "id": "cc858a2c-2bfc-43d2-8884-f2d516604cd6",
   "metadata": {},
   "outputs": [],
   "source": [
    "# Criar a dimensão Sources\n",
    "dim_sources_df = gender_stats_series_df \\\n",
    "                .select(\"Notes_from_original_source\",\n",
    "                        \"Source\",\n",
    "                        \"Related_source_links\",\n",
    "                        \"Other_web_links\") \\\n",
    "                .distinct()\n",
    "\n",
    "#Criação uma coluna com chaves artificiais com valores sequenciais, colocando-a em primeiro lugar (SD = Source Dimension)\n",
    "dim_sources_df = dim_sources_df \\\n",
    "                .withColumn(\"Sources_Dimension_ID\", concat(lit(\"SD\"), monotonically_increasing_id())\n",
    "                .cast(\"string\")) \\\n",
    "                .select(\"Sources_Dimension_ID\", *dim_sources_df.columns[0:])\n",
    "\n",
    "# Escrever para a tabela delta\n",
    "dim_sources_df.write \\\n",
    "              .format(\"delta\") \\\n",
    "              .mode(\"overwrite\") \\\n",
    "              .option(\"overwriteSchema\", \"true\") \\\n",
    "              .save(\"hdfs://hdfs-nn:9000/warehouse/Projeto.db/dim_sources\")"
   ]
  },
  {
   "cell_type": "code",
   "execution_count": 30,
   "id": "68b3d948-ced9-421e-90dc-5fd1473d3602",
   "metadata": {},
   "outputs": [],
   "source": [
    "# Criar a dimensão Measurement Methods\n",
    "dim_measurement_methods_df = gender_stats_series_df \\\n",
    "                            .select(\"Unit_of_measure\",\n",
    "                                    \"Aggregation_method\") \\\n",
    "                            .distinct()\n",
    "\n",
    "#Criação uma coluna com chaves artificiais com valores sequenciais, colocando-a em primeiro lugar (MMD = Measurement Methods)\n",
    "dim_measurement_methods_df = dim_measurement_methods_df \\\n",
    "                            .withColumn(\"Measurement_Methods_ID\", concat(lit(\"MMD\"), monotonically_increasing_id())\n",
    "                            .cast(\"string\")) \\\n",
    "                            .select(\"Measurement_Methods_ID\", *dim_measurement_methods_df.columns[0:])\n",
    "\n",
    "# Escrever para a tabela delta\n",
    "dim_measurement_methods_df.write \\\n",
    "                          .format(\"delta\") \\\n",
    "                          .mode(\"overwrite\") \\\n",
    "                          .option(\"overwriteSchema\", \"true\") \\\n",
    "                          .save(\"hdfs://hdfs-nn:9000/warehouse/Projeto.db/dim_measurement_methods\")"
   ]
  },
  {
   "cell_type": "code",
   "execution_count": 31,
   "id": "cf7ffbc7-7527-4fae-81ae-67a85d37dbcc",
   "metadata": {},
   "outputs": [],
   "source": [
    "# Criar a dimensão Gender Series\n",
    "\n",
    "# Join da informação necessária de ambas as tabelas\n",
    "# Pivotagem das várias colunas de anos em linhas\n",
    "gender_stats_df = gender_stats_data_df \\\n",
    "                  .join(gender_stats_series_df, gender_stats_data_df.Indicator_Code == gender_stats_series_df.Series_Code) \\\n",
    "                  .select(\"Projeto.Gender_Stats_Data_table.Indicator_Name\", \"Projeto.Gender_Stats_Data_table.Indicator_Code\",\n",
    "                          \"Projeto.Gender_Stats_Data_table.Country_Region_Situation_Code\", \"Projeto.Gender_Stats_Series_table.Periodicity\",\n",
    "                          \"Projeto.Gender_Stats_Series_table.Source\", \"Projeto.Gender_Stats_Series_table.Aggregation_method\",\n",
    "                          \"Projeto.Gender_Stats_Data_table.Gender\", \"Projeto.Gender_Stats_Data_table.Uniform_Age_Group\", \n",
    "                          \"Projeto.Gender_Stats_Series_table.Topic\", \"Projeto.Gender_Stats_Series_table.Short_definition\",\n",
    "                          \"Projeto.Gender_Stats_Series_table.Long_definition\", \"Projeto.Gender_Stats_Series_table.Other_notes\",\n",
    "                          \"Projeto.Gender_Stats_Series_table.Limitations_and_exceptions\", \"Projeto.Gender_Stats_Series_table.General_comments\", \n",
    "                          \"Projeto.Gender_Stats_Series_table.Statistical_concept_and_methodology\", \"Projeto.Gender_Stats_Series_table.Development_relevance\",\n",
    "                          \"Projeto.Gender_Stats_Series_table.Related_indicators\", \"Projeto.Gender_Stats_Series_table.License_Type\",\n",
    "                          expr(\"stack(63, 'Projeto.Gender_Stats_Data_table.1960', `1960`, 'Projeto.Gender_Stats_Data_table.1961', `1961`, 'Projeto.Gender_Stats_Data_table.1962', `1962`, 'Projeto.Gender_Stats_Data_table.1963', `1963`, 'Projeto.Gender_Stats_Data_table.1964', `1964`, 'Projeto.Gender_Stats_Data_table.1965', `1965`, 'Projeto.Gender_Stats_Data_table.1966', `1966`, 'Projeto.Gender_Stats_Data_table.1967', `1967`, 'Projeto.Gender_Stats_Data_table.1968', `1968`, 'Projeto.Gender_Stats_Data_table.1969', `1969`, 'Projeto.Gender_Stats_Data_table.1970', `1970`, 'Projeto.Gender_Stats_Data_table.1971', `1971`, 'Projeto.Gender_Stats_Data_table.1972', `1972`, 'Projeto.Gender_Stats_Data_table.1973', `1973`, 'Projeto.Gender_Stats_Data_table.1974', `1974`, 'Projeto.Gender_Stats_Data_table.1975', `1975`, 'Projeto.Gender_Stats_Data_table.1976', `1976`, 'Projeto.Gender_Stats_Data_table.1977', `1977`, 'Projeto.Gender_Stats_Data_table.1978', `1978`, 'Projeto.Gender_Stats_Data_table.1979', `1979`, 'Projeto.Gender_Stats_Data_table.1980', `1980`, 'Projeto.Gender_Stats_Data_table.1981', `1981`, 'Projeto.Gender_Stats_Data_table.1982', `1982`, 'Projeto.Gender_Stats_Data_table.1983', `1983`, 'Projeto.Gender_Stats_Data_table.1984', `1984`, 'Projeto.Gender_Stats_Data_table.1985', `1985`, 'Projeto.Gender_Stats_Data_table.1986', `1986`, 'Projeto.Gender_Stats_Data_table.1987', `1987`, 'Projeto.Gender_Stats_Data_table.1988', `1988`, 'Projeto.Gender_Stats_Data_table.1989', `1989`, 'Projeto.Gender_Stats_Data_table.1990', `1990`, 'Projeto.Gender_Stats_Data_table.1991', `1991`, 'Projeto.Gender_Stats_Data_table.1992', `1992`, 'Projeto.Gender_Stats_Data_table.1993', `1993`, 'Projeto.Gender_Stats_Data_table.1994', `1994`, 'Projeto.Gender_Stats_Data_table.1995', `1995`, 'Projeto.Gender_Stats_Data_table.1996', `1996`, 'Projeto.Gender_Stats_Data_table.1997', `1997`, 'Projeto.Gender_Stats_Data_table.1998', `1998`, 'Projeto.Gender_Stats_Data_table.1999', `1999`, 'Projeto.Gender_Stats_Data_table.2000', `2000`, 'Projeto.Gender_Stats_Data_table.2001', `2001`, 'Projeto.Gender_Stats_Data_table.2002', `2002`, 'Projeto.Gender_Stats_Data_table.2003', `2003`, 'Projeto.Gender_Stats_Data_table.2004', `2004`, 'Projeto.Gender_Stats_Data_table.2005', `2005`, 'Projeto.Gender_Stats_Data_table.2006', `2006`, 'Projeto.Gender_Stats_Data_table.2007', `2007`, 'Projeto.Gender_Stats_Data_table.2008', `2008`, 'Projeto.Gender_Stats_Data_table.2009', `2009`, 'Projeto.Gender_Stats_Data_table.2010', `2010`, 'Projeto.Gender_Stats_Data_table.2011', `2011`, 'Projeto.Gender_Stats_Data_table.2012', `2012`, 'Projeto.Gender_Stats_Data_table.2013', `2013`, 'Projeto.Gender_Stats_Data_table.2014', `2014`, 'Projeto.Gender_Stats_Data_table.2015', `2015`, 'Projeto.Gender_Stats_Data_table.2016', `2016`, 'Projeto.Gender_Stats_Data_table.2017', `2017`, 'Projeto.Gender_Stats_Data_table.2018', `2018`, 'Projeto.Gender_Stats_Data_table.2019', `2019`, 'Projeto.Gender_Stats_Data_table.2020', `2020`, 'Projeto.Gender_Stats_Data_table.2021', `2021`, 'Projeto.Gender_Stats_Data_table.2022', `2022`) as (Year,Number)\"))\n",
    "\n",
    "# Colocar o formato dos dados da coluna \"Year\" como xxxx (ex: 1960)\n",
    "gender_stats_df = gender_stats_df.withColumn(\"Year\", expr(\"substring(Year, 33, 4)\").cast(\"int\"))\n",
    "\n",
    "# Filtrar para os anos necessários\n",
    "gender_stats_df = gender_stats_df.filter((col(\"Year\") >= 2010) & (col(\"Year\") <= 2022))\n",
    "\n",
    "#Criação uma coluna com chaves artificiais com valores sequenciais, colocando-a em primeiro lugar (GS = Gender Series)\n",
    "dim_gender_series_df = gender_stats_df \\\n",
    "                       .withColumn(\"Gender_Series_ID\", concat(lit(\"GS\"), monotonically_increasing_id())\n",
    "                       .cast(\"string\")) \\\n",
    "                       .select(\"Gender_Series_ID\", *gender_stats_df.columns[0:])"
   ]
  },
  {
   "cell_type": "code",
   "execution_count": 32,
   "id": "78e4d53d-2235-4f95-9da3-928fb25ea6ec",
   "metadata": {},
   "outputs": [],
   "source": [
    "# Criação da tabela de factos Gender Data\n",
    "\n",
    "# Juntar o ID da dimensão Country\n",
    "gd_gs_df = dim_gender_series_df \\\n",
    "           .join(dim_country_df, dim_gender_series_df.Country_Region_Situation_Code == dim_country_df.Country_Region_Situation_Code) \\\n",
    "           .select(\"Gender_Series_ID\", \"Country_Dimension_ID\", \"Periodicity\", \"Source\", \"Aggregation_method\", \"Indicator_Code\", \"Number\")"
   ]
  },
  {
   "cell_type": "code",
   "execution_count": 33,
   "id": "adbbb82a-6b71-4b97-bfb0-aaa189e32bce",
   "metadata": {},
   "outputs": [],
   "source": [
    "# Juntar o ID da dimensão Temporal Measurement\n",
    "gd_tm_df = gd_gs_df \\\n",
    "           .join(dim_temporal_measurement_df, gd_gs_df.Periodicity == dim_temporal_measurement_df.Periodicity) \\\n",
    "           .select(\"Gender_Series_ID\", \"Country_Dimension_ID\", \"Temporal_Measurement_ID\", \"Source\", \"Aggregation_method\", \"Indicator_Code\", \"Number\")"
   ]
  },
  {
   "cell_type": "code",
   "execution_count": 34,
   "id": "6449ba11-25ec-432a-8bc1-903bc7151bcc",
   "metadata": {},
   "outputs": [],
   "source": [
    "# Juntar o ID da dimensão Sources\n",
    "gd_s_df = gd_tm_df \\\n",
    "          .join(dim_sources_df, gd_tm_df.Source == dim_sources_df.Source) \\\n",
    "          .select(\"Gender_Series_ID\", \"Country_Dimension_ID\", \"Temporal_Measurement_ID\", \"Sources_Dimension_ID\", \"Aggregation_method\", \"Indicator_Code\", \"Number\")"
   ]
  },
  {
   "cell_type": "code",
   "execution_count": 35,
   "id": "66ae749e-7f5c-41f9-ba9a-74f6e53abe3c",
   "metadata": {},
   "outputs": [],
   "source": [
    "# Juntar o Id da dimensão Measurement Methods\n",
    "gd_mm_df = gd_s_df \\\n",
    "          .join(dim_measurement_methods_df, gd_s_df.Aggregation_method == dim_measurement_methods_df.Aggregation_method) \\\n",
    "          .select(\"Gender_Series_ID\", \"Country_Dimension_ID\", \"Temporal_Measurement_ID\", \"Sources_Dimension_ID\", \"Measurement_Methods_ID\", \"Indicator_Code\", \n",
    "                  \"Number\")"
   ]
  },
  {
   "cell_type": "code",
   "execution_count": 37,
   "id": "cc627548-1091-48ed-8522-eecad88eeebf",
   "metadata": {},
   "outputs": [],
   "source": [
    "# Foi colocada aqui a elimação de colunas da dimensão Gender Series pois era necessário\n",
    "# anteriormente estas mesmo para juntar as outras dimensões\n",
    "#Eliminar colunas que não fazem parte da dimensão\n",
    "dim_gender_series_df = dim_gender_series_df.drop(\"Number\")\n",
    "dim_gender_series_df = dim_gender_series_df.drop(\"Country_Region_Situation_Code\")\n",
    "dim_gender_series_df = dim_gender_series_df.drop(\"Periodicity\")\n",
    "dim_gender_series_df = dim_gender_series_df.drop(\"Source\")\n",
    "dim_gender_series_df = dim_gender_series_df.drop(\"Aggregation_method\")"
   ]
  },
  {
   "cell_type": "code",
   "execution_count": 38,
   "id": "da718f75-3181-4ee0-b97f-373374852c1a",
   "metadata": {},
   "outputs": [],
   "source": [
    "# Tabela de Factos\n",
    "gender_data_df = gd_mm_df \\\n",
    "                 .withColumnRenamed(\"Number\", \"Indicator_Number\")"
   ]
  },
  {
   "cell_type": "code",
   "execution_count": 41,
   "id": "4e8cab7d-b04d-485d-8206-68443b59ad2d",
   "metadata": {},
   "outputs": [],
   "source": [
    "# Escrever para a tabela delta a dimensão Gender Series\n",
    "dim_gender_series_df.write \\\n",
    "                    .format(\"delta\") \\\n",
    "                    .mode(\"overwrite\") \\\n",
    "                    .option(\"overwriteSchema\", \"true\") \\\n",
    "                    .save(\"hdfs://hdfs-nn:9000/warehouse/Projeto.db/dim_gender_series\")"
   ]
  },
  {
   "cell_type": "code",
   "execution_count": 42,
   "id": "6819cb15-6f87-4a9d-af64-5da2b4cd05ba",
   "metadata": {},
   "outputs": [],
   "source": [
    "# Escrever para a tabela delta\n",
    "gender_data_df.write \\\n",
    "              .format(\"delta\") \\\n",
    "              .mode(\"overwrite\") \\\n",
    "              .option(\"overwriteSchema\", \"true\") \\\n",
    "              .save(\"hdfs://hdfs-nn:9000/warehouse/Projeto.db/gender_data\")"
   ]
  },
  {
   "cell_type": "code",
   "execution_count": 43,
   "id": "8d83fc41-1da5-4a7f-92bf-3002ab4b9757",
   "metadata": {},
   "outputs": [],
   "source": [
    "spark.stop()"
   ]
  }
 ],
 "metadata": {
  "kernelspec": {
   "display_name": "Python 3 (ipykernel)",
   "language": "python",
   "name": "python3"
  },
  "language_info": {
   "codemirror_mode": {
    "name": "ipython",
    "version": 3
   },
   "file_extension": ".py",
   "mimetype": "text/x-python",
   "name": "python",
   "nbconvert_exporter": "python",
   "pygments_lexer": "ipython3",
   "version": "3.11.5"
  }
 },
 "nbformat": 4,
 "nbformat_minor": 5
}
