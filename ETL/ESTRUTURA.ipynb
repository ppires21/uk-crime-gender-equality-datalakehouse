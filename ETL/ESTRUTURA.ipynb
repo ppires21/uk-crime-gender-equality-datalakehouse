{
 "cells": [
  {
   "cell_type": "code",
   "execution_count": 1,
   "id": "governmental-sullivan",
   "metadata": {},
   "outputs": [],
   "source": [
    "from pyspark.sql import SparkSession\n",
    "from pyspark.sql import Row\n",
    "from delta import *\n",
    "\n",
    "warehouse_location = 'hdfs://hdfs-nn:9000/warehouse'\n",
    "\n",
    "builder = SparkSession \\\n",
    "    .builder \\\n",
    "    .appName(\"Python Spark SQL Hive integration example\") \\\n",
    "    .config(\"spark.sql.warehouse.dir\", warehouse_location) \\\n",
    "    .config(\"hive.metastore.uris\", \"thrift://hive-metastore:9083\") \\\n",
    "    .config(\"spark.sql.extensions\", \"io.delta.sql.DeltaSparkSessionExtension\") \\\n",
    "    .config(\"spark.sql.catalog.spark_catalog\", \"org.apache.spark.sql.delta.catalog.DeltaCatalog\") \\\n",
    "    .config(\"spark.jars.packages\", \"io.delta:delta-core_2.12:2.4.0\") \\\n",
    "    .enableHiveSupport() \\\n",
    "\n",
    "spark = spark = configure_spark_with_delta_pip(builder).getOrCreate()"
   ]
  },
  {
   "cell_type": "code",
   "execution_count": 2,
   "id": "7e255167-c2fc-4fba-90e6-cba00e37dacf",
   "metadata": {},
   "outputs": [],
   "source": [
    "#===========================CRIAÇÃO DA DATABASE==========================="
   ]
  },
  {
   "cell_type": "code",
   "execution_count": 3,
   "id": "neutral-specialist",
   "metadata": {},
   "outputs": [
    {
     "data": {
      "text/plain": [
       "DataFrame[]"
      ]
     },
     "execution_count": 3,
     "metadata": {},
     "output_type": "execute_result"
    }
   ],
   "source": [
    "spark.sql(\n",
    "    \"\"\"\n",
    "    DROP DATABASE IF EXISTS Projeto CASCADE\n",
    "    \"\"\"\n",
    ")"
   ]
  },
  {
   "cell_type": "code",
   "execution_count": 4,
   "id": "funny-republican",
   "metadata": {},
   "outputs": [
    {
     "data": {
      "text/plain": [
       "DataFrame[]"
      ]
     },
     "execution_count": 4,
     "metadata": {},
     "output_type": "execute_result"
    }
   ],
   "source": [
    "spark.sql(\n",
    "    \"\"\"\n",
    "    CREATE DATABASE Projeto LOCATION 'hdfs://hdfs-nn:9000/warehouse/Projeto.db/'\n",
    "    \"\"\"\n",
    ")"
   ]
  },
  {
   "cell_type": "code",
   "execution_count": 5,
   "id": "812dc169-d867-4015-b051-be1d2c93d115",
   "metadata": {},
   "outputs": [],
   "source": [
    "#===========================================CRIAÇÃO DAS TABELAS============================================"
   ]
  },
  {
   "cell_type": "code",
   "execution_count": 6,
   "id": "f6fe0cf2-4e91-473d-96b8-16c4bb61097f",
   "metadata": {},
   "outputs": [],
   "source": [
    "#----------------------------------------------HOMICIDE_DATASET----------------------------------------"
   ]
  },
  {
   "cell_type": "code",
   "execution_count": 7,
   "id": "fc6bf69e-b4ac-4470-80b1-090407f2c398",
   "metadata": {},
   "outputs": [
    {
     "data": {
      "text/plain": [
       "DataFrame[]"
      ]
     },
     "execution_count": 7,
     "metadata": {},
     "output_type": "execute_result"
    }
   ],
   "source": [
    "spark.sql(\"\"\"\n",
    "    DROP TABLE IF EXISTS Projeto.Homicide_Victim_table\n",
    "\"\"\")"
   ]
  },
  {
   "cell_type": "code",
   "execution_count": 8,
   "id": "ceramic-messenger",
   "metadata": {},
   "outputs": [
    {
     "data": {
      "text/plain": [
       "DataFrame[]"
      ]
     },
     "execution_count": 8,
     "metadata": {},
     "output_type": "execute_result"
    }
   ],
   "source": [
    "spark.sql(\"\"\"\n",
    "    CREATE TABLE Projeto.Homicide_Victim_table (\n",
    "        Homicide_Victim_Id STRING,\n",
    "        Count_of_Victims INT,\n",
    "        Age_Group STRING,\n",
    "        Victim_Gender STRING,\n",
    "        Method_of_Killing STRING, \n",
    "        Domestic_Abuse STRING,\n",
    "        Recorded_Date STRING, \n",
    "        Homicide_Offence_Type STRING,\n",
    "        Solved_Status STRING, \n",
    "        Borough STRING, \n",
    "        Officer_Observed_Ethnicity STRING, \n",
    "        Recorded_Month INT, \n",
    "        Recorded_Year INT,\n",
    "        Location STRING,\n",
    "        Uniform_Age_Group STRING\n",
    "    )\n",
    "    USING DELTA\n",
    "    PARTITIONED BY (Borough) \n",
    "    LOCATION 'hdfs://hdfs-nn:9000/warehouse/Projeto.db/Homicide_Victim_table'\n",
    "\"\"\")\n"
   ]
  },
  {
   "cell_type": "code",
   "execution_count": 9,
   "id": "60cbe612-c8d0-421c-917e-82cdd7732495",
   "metadata": {},
   "outputs": [
    {
     "data": {
      "text/plain": [
       "DataFrame[]"
      ]
     },
     "execution_count": 9,
     "metadata": {},
     "output_type": "execute_result"
    }
   ],
   "source": [
    "spark.sql(\"\"\"\n",
    "    DROP TABLE IF EXISTS Projeto.Homicide_Proceeded_table\n",
    "\"\"\")"
   ]
  },
  {
   "cell_type": "code",
   "execution_count": 10,
   "id": "solved-learning",
   "metadata": {},
   "outputs": [
    {
     "data": {
      "text/plain": [
       "DataFrame[]"
      ]
     },
     "execution_count": 10,
     "metadata": {},
     "output_type": "execute_result"
    }
   ],
   "source": [
    "spark.sql(\"\"\"\n",
    "    CREATE TABLE Projeto.Homicide_Proceeded_table (\n",
    "        Homicide_Proceeded_ID STRING,\n",
    "        People_Accused_Count INT,\n",
    "        Borough STRING,\n",
    "        Age_Group STRING,\n",
    "        Agressor_Gender STRING,\n",
    "        Self_Classified_Ethnicity STRING,\n",
    "        Offence_Type STRING,\n",
    "        Charged_Summonsed STRING,\n",
    "        Proceedings_Date STRING,\n",
    "        Proceedings_Month INT,\n",
    "        Proceedings_Year INT, \n",
    "        Location STRING, \n",
    "        Uniform_Age_Group STRING\n",
    "    )\n",
    "    USING DELTA\n",
    "    PARTITIONED BY (Borough) \n",
    "    LOCATION 'hdfs://hdfs-nn:9000/warehouse/Projeto.db/Homicide_Proceeded_table'\n",
    "\"\"\")"
   ]
  },
  {
   "cell_type": "code",
   "execution_count": 11,
   "id": "62625107-3ca7-4e2c-9fba-072669553fd7",
   "metadata": {},
   "outputs": [],
   "source": [
    "#----------------------------------------------ETAPA GOLD----------------------------------------"
   ]
  },
  {
   "cell_type": "code",
   "execution_count": 12,
   "id": "c52cd282-456e-4de5-bfa8-e3d99d3d62ee",
   "metadata": {},
   "outputs": [
    {
     "data": {
      "text/plain": [
       "DataFrame[]"
      ]
     },
     "execution_count": 12,
     "metadata": {},
     "output_type": "execute_result"
    }
   ],
   "source": [
    "spark.sql(\"\"\"\n",
    "    DROP TABLE IF EXISTS Projeto.Person_table\n",
    "\"\"\")"
   ]
  },
  {
   "cell_type": "code",
   "execution_count": 13,
   "id": "2a16827d-b1cb-43b3-aa21-fb47b2fe70fa",
   "metadata": {},
   "outputs": [
    {
     "data": {
      "text/plain": [
       "DataFrame[]"
      ]
     },
     "execution_count": 13,
     "metadata": {},
     "output_type": "execute_result"
    }
   ],
   "source": [
    "spark.sql(\"\"\"\n",
    "    CREATE TABLE Projeto.Person_table (\n",
    "        Id_Person INT,\n",
    "        Gender STRING,\n",
    "        Age_Group STRING,\n",
    "        Ethinicity STRING\n",
    "    )\n",
    "    USING DELTA\n",
    "    LOCATION 'hdfs://hdfs-nn:9000/warehouse/Projeto.db/Person_table'\n",
    "\"\"\")"
   ]
  },
  {
   "cell_type": "code",
   "execution_count": 14,
   "id": "94e11791-14c6-4b07-b385-297cd00c02b4",
   "metadata": {},
   "outputs": [
    {
     "data": {
      "text/plain": [
       "DataFrame[]"
      ]
     },
     "execution_count": 14,
     "metadata": {},
     "output_type": "execute_result"
    }
   ],
   "source": [
    "spark.sql(\"\"\"\n",
    "    DROP TABLE IF EXISTS Projeto.Date_table\n",
    "\"\"\")"
   ]
  },
  {
   "cell_type": "code",
   "execution_count": 15,
   "id": "eba9a49f-fc3c-4dde-b648-79f20c5523ec",
   "metadata": {},
   "outputs": [
    {
     "data": {
      "text/plain": [
       "DataFrame[]"
      ]
     },
     "execution_count": 15,
     "metadata": {},
     "output_type": "execute_result"
    }
   ],
   "source": [
    "spark.sql(\"\"\"\n",
    "    CREATE TABLE Projeto.Date_table (\n",
    "        Id_Date INT,\n",
    "        Day INT,\n",
    "        Month INT,\n",
    "        Year INT\n",
    "    )\n",
    "    USING DELTA\n",
    "    LOCATION 'hdfs://hdfs-nn:9000/warehouse/Projeto.db/Date_table'\n",
    "\"\"\")"
   ]
  },
  {
   "cell_type": "code",
   "execution_count": 16,
   "id": "f3e32e4a-47cc-4c5c-9d86-28a1ff387037",
   "metadata": {},
   "outputs": [
    {
     "data": {
      "text/plain": [
       "DataFrame[]"
      ]
     },
     "execution_count": 16,
     "metadata": {},
     "output_type": "execute_result"
    }
   ],
   "source": [
    "spark.sql(\"\"\"\n",
    "    DROP TABLE IF EXISTS Location_table\n",
    "\"\"\")"
   ]
  },
  {
   "cell_type": "code",
   "execution_count": 17,
   "id": "0ea7b984-19de-4df2-80c6-fcaec1006b8d",
   "metadata": {},
   "outputs": [
    {
     "data": {
      "text/plain": [
       "DataFrame[]"
      ]
     },
     "execution_count": 17,
     "metadata": {},
     "output_type": "execute_result"
    }
   ],
   "source": [
    "spark.sql(\"\"\"\n",
    "    CREATE TABLE Projeto.Location_table (\n",
    "        Id_Location INT,\n",
    "        Location STRING,\n",
    "        Borough STRING\n",
    "    )\n",
    "    USING DELTA\n",
    "    LOCATION 'hdfs://hdfs-nn:9000/warehouse/Projeto.db/Location_table'\n",
    "\"\"\")"
   ]
  },
  {
   "cell_type": "code",
   "execution_count": 18,
   "id": "f5839766-58ee-4bef-a468-e78bafa06094",
   "metadata": {},
   "outputs": [
    {
     "data": {
      "text/plain": [
       "DataFrame[]"
      ]
     },
     "execution_count": 18,
     "metadata": {},
     "output_type": "execute_result"
    }
   ],
   "source": [
    "spark.sql(\"\"\"\n",
    "    DROP TABLE IF EXISTS Projeto.Homicides_table\n",
    "\"\"\")"
   ]
  },
  {
   "cell_type": "code",
   "execution_count": 19,
   "id": "d50eaeff-42a4-4385-bce8-58a73a4746ef",
   "metadata": {},
   "outputs": [
    {
     "data": {
      "text/plain": [
       "DataFrame[]"
      ]
     },
     "execution_count": 19,
     "metadata": {},
     "output_type": "execute_result"
    }
   ],
   "source": [
    "spark.sql(\"\"\"\n",
    "    CREATE TABLE Projeto.Homicides_table (\n",
    "        Id_Homicide STRING,\n",
    "        Method_Of_Killing STRING,\n",
    "        Offense_Type STRING,\n",
    "        Solved_Status STRING\n",
    "    )\n",
    "    USING DELTA\n",
    "    LOCATION 'hdfs://hdfs-nn:9000/warehouse/Projeto.db/Homicides_table'\n",
    "\"\"\")"
   ]
  },
  {
   "cell_type": "code",
   "execution_count": 20,
   "id": "5e30ca43-51d9-45f3-91c2-0b5f5e219e49",
   "metadata": {},
   "outputs": [
    {
     "data": {
      "text/plain": [
       "DataFrame[]"
      ]
     },
     "execution_count": 20,
     "metadata": {},
     "output_type": "execute_result"
    }
   ],
   "source": [
    "spark.sql(\"\"\"\n",
    "    DROP TABLE IF EXISTS Projeto.Homicide_Facts_table\n",
    "\"\"\")"
   ]
  },
  {
   "cell_type": "code",
   "execution_count": 21,
   "id": "f94f0eb3-129c-47f3-8fab-4bc69fe42526",
   "metadata": {},
   "outputs": [
    {
     "data": {
      "text/plain": [
       "DataFrame[]"
      ]
     },
     "execution_count": 21,
     "metadata": {},
     "output_type": "execute_result"
    }
   ],
   "source": [
    "spark.sql(\"\"\"\n",
    "    CREATE TABLE Projeto.Homicide_Facts_table (\n",
    "        Id_Homicide_Fact STRING,\n",
    "        Id_Pessoa INT,\n",
    "        Id_Data INT,\n",
    "        Id_Location INT,\n",
    "        Id_Crime_Type INT,\n",
    "            \n",
    "        Count_of_Victims INT, \n",
    "        Percentage_of_Total_Victims DOUBLE\n",
    "    )\n",
    "    USING DELTA\n",
    "    LOCATION 'hdfs://hdfs-nn:9000/warehouse/Projeto.db/Homicide_Facts_table'\n",
    "\"\"\")"
   ]
  },
  {
   "cell_type": "code",
   "execution_count": 22,
   "id": "10fbff06-3b2f-4db7-982f-4190bb6416ee",
   "metadata": {},
   "outputs": [
    {
     "data": {
      "text/plain": [
       "DataFrame[]"
      ]
     },
     "execution_count": 22,
     "metadata": {},
     "output_type": "execute_result"
    }
   ],
   "source": [
    "spark.sql(\"\"\"\n",
    "    DROP TABLE IF EXISTS Projeto.Proceeded_Facts_table\n",
    "\"\"\")"
   ]
  },
  {
   "cell_type": "code",
   "execution_count": 23,
   "id": "ee3de77b-7296-4a26-a127-b75328b14f3f",
   "metadata": {},
   "outputs": [
    {
     "data": {
      "text/plain": [
       "DataFrame[]"
      ]
     },
     "execution_count": 23,
     "metadata": {},
     "output_type": "execute_result"
    }
   ],
   "source": [
    "spark.sql(\"\"\"\n",
    "    CREATE TABLE Projeto.Proceeded_Facts_table (\n",
    "        Id_Proceeded_Fact STRING,\n",
    "        Id_Pessoa INT,\n",
    "        Id_Data INT,\n",
    "        Id_Location INT,\n",
    "        Id_Crime_Type INT,\n",
    "        Offense_Type STRING,\n",
    "        Charged_Summonsed STRING,\n",
    "        \n",
    "        People_Accused_Count INT,\n",
    "        Percentage_of_Total_Proceeds DOUBLE\n",
    "    )\n",
    "    USING DELTA\n",
    "    LOCATION 'hdfs://hdfs-nn:9000/warehouse/Projeto.db/Proceeded_Facts_table'\n",
    "\"\"\")"
   ]
  },
  {
   "cell_type": "code",
   "execution_count": 24,
   "id": "e96f4dc5-7539-4f4d-aec5-b4552c521c74",
   "metadata": {},
   "outputs": [],
   "source": [
    "#----------------------------------------------CRIME_DATASET----------------------------------------"
   ]
  },
  {
   "cell_type": "code",
   "execution_count": 25,
   "id": "2c64d7e5-e562-41bf-9a64-1486dca3104e",
   "metadata": {},
   "outputs": [
    {
     "data": {
      "text/plain": [
       "DataFrame[]"
      ]
     },
     "execution_count": 25,
     "metadata": {},
     "output_type": "execute_result"
    }
   ],
   "source": [
    "spark.sql(\"\"\"\n",
    "    DROP TABLE IF EXISTS Projeto.Outcomes_table\n",
    "\"\"\")"
   ]
  },
  {
   "cell_type": "code",
   "execution_count": 26,
   "id": "4311e226-ad73-4ce7-9900-3838363f0e7f",
   "metadata": {},
   "outputs": [
    {
     "data": {
      "text/plain": [
       "DataFrame[]"
      ]
     },
     "execution_count": 26,
     "metadata": {},
     "output_type": "execute_result"
    }
   ],
   "source": [
    "spark.sql(\"\"\"\n",
    "    CREATE TABLE Projeto.Outcomes_table (\n",
    "        CrimeID STRING,\n",
    "        Reported_by STRING,\n",
    "        Falls_within STRING,\n",
    "        Longitude STRING,\n",
    "        Latitude STRING,\n",
    "        Near_of STRING,\n",
    "        LSOA_code STRING,\n",
    "        LSOA_name STRING,\n",
    "        Outcome_type STRING,\n",
    "        Year INT,\n",
    "        Month STRING,\n",
    "        Location STRING\n",
    "    )\n",
    "    USING DELTA\n",
    "    LOCATION 'hdfs://hdfs-nn:9000/warehouse/Projeto.db/Outcomes_table'\n",
    "\"\"\")\n",
    "\n",
    "\n"
   ]
  },
  {
   "cell_type": "code",
   "execution_count": 27,
   "id": "10b0a900-9e6c-4c9e-bb31-82a20a5568a3",
   "metadata": {},
   "outputs": [
    {
     "data": {
      "text/plain": [
       "DataFrame[]"
      ]
     },
     "execution_count": 27,
     "metadata": {},
     "output_type": "execute_result"
    }
   ],
   "source": [
    "spark.sql(\"\"\"\n",
    "    DROP TABLE IF EXISTS Projeto.Stop_and_search_table\n",
    "\"\"\")"
   ]
  },
  {
   "cell_type": "code",
   "execution_count": 28,
   "id": "d389f79d-3dce-4af1-bd10-7c9492a81bf3",
   "metadata": {},
   "outputs": [
    {
     "data": {
      "text/plain": [
       "DataFrame[]"
      ]
     },
     "execution_count": 28,
     "metadata": {},
     "output_type": "execute_result"
    }
   ],
   "source": [
    "spark.sql(\"\"\"\n",
    "    CREATE TABLE Projeto.Stop_and_search_table (\n",
    "        Type STRING,\n",
    "        Date STRING,\n",
    "        STOP_Operation STRING,\n",
    "        Policing_operation STRING,\n",
    "        Latitude STRING,\n",
    "        Longitude STRING,\n",
    "        Gender STRING,\n",
    "        Age_range STRING,\n",
    "        Self_defined_ethnicity STRING,\n",
    "        Officer_defined_ethnicity STRING,\n",
    "        Legislation STRING,\n",
    "        Object_of_search STRING,\n",
    "        Outcome STRING,\n",
    "        Outcome_of_Searched_object STRING,\n",
    "        Removal_of_more_than_just_outer_clothing STRING,\n",
    "        Year INT,\n",
    "        Month INT,\n",
    "        Age_Group_agrouped STRING,\n",
    "        Location STRING\n",
    "    )\n",
    "    USING DELTA\n",
    "    LOCATION 'hdfs://hdfs-nn:9000/warehouse/Projeto.db/Stop_and_search_table'\n",
    "\"\"\")\n"
   ]
  },
  {
   "cell_type": "code",
   "execution_count": 29,
   "id": "f2b663c7-1a7c-458f-8fc6-b5b1b6664a1f",
   "metadata": {},
   "outputs": [
    {
     "data": {
      "text/plain": [
       "DataFrame[]"
      ]
     },
     "execution_count": 29,
     "metadata": {},
     "output_type": "execute_result"
    }
   ],
   "source": [
    "spark.sql(\"\"\"\n",
    "    DROP TABLE IF EXISTS Projeto.Street_table\n",
    "\"\"\")"
   ]
  },
  {
   "cell_type": "code",
   "execution_count": 30,
   "id": "03ff4064-b95a-4ea4-b095-2f98155824f5",
   "metadata": {},
   "outputs": [
    {
     "data": {
      "text/plain": [
       "DataFrame[]"
      ]
     },
     "execution_count": 30,
     "metadata": {},
     "output_type": "execute_result"
    }
   ],
   "source": [
    "spark.sql(\"\"\"\n",
    "    CREATE TABLE Projeto.Street_table (\n",
    "        CrimeID STRING,\n",
    "        Time STRING,\n",
    "        Reported_by STRING,\n",
    "        Falls_within STRING,\n",
    "        Longitude STRING,\n",
    "        Latitude STRING,\n",
    "        Near_of STRING,\n",
    "        LSOA_code STRING,\n",
    "        LSOA_name STRING,\n",
    "        Crime_type STRING,\n",
    "        Last_outcome_category STRING,\n",
    "        Context STRING,\n",
    "        Year INT,\n",
    "        Month INT,\n",
    "        Location STRING\n",
    "    )\n",
    "    USING DELTA\n",
    "    LOCATION 'hdfs://hdfs-nn:9000/warehouse/Projeto.db/Street_table'\n",
    "\"\"\")\n"
   ]
  },
  {
   "cell_type": "code",
   "execution_count": 31,
   "id": "0c0bc6d9-f199-4df5-87c0-b636d7054f01",
   "metadata": {},
   "outputs": [
    {
     "data": {
      "text/plain": [
       "DataFrame[]"
      ]
     },
     "execution_count": 31,
     "metadata": {},
     "output_type": "execute_result"
    }
   ],
   "source": [
    "spark.sql(\"\"\"\n",
    "    DROP TABLE IF EXISTS Projeto.Gender_Stats_Data_table\n",
    "\"\"\")"
   ]
  },
  {
   "cell_type": "code",
   "execution_count": 32,
   "id": "1b14fa32-c449-42b4-9dac-ca8c373d0fd9",
   "metadata": {},
   "outputs": [],
   "source": [
    "#-----------------------------------------------------ETAPA GOLD-------------------------------------------------"
   ]
  },
  {
   "cell_type": "code",
   "execution_count": 33,
   "id": "d30862d0-e851-4a48-b1b8-87cdbc0a628b",
   "metadata": {},
   "outputs": [
    {
     "data": {
      "text/plain": [
       "DataFrame[]"
      ]
     },
     "execution_count": 33,
     "metadata": {},
     "output_type": "execute_result"
    }
   ],
   "source": [
    "spark.sql(\"\"\"\n",
    "    DROP TABLE IF EXISTS Projeto.dim_pessoa_table\n",
    "\"\"\")"
   ]
  },
  {
   "cell_type": "code",
   "execution_count": 34,
   "id": "337f87fe-f3bf-461c-86b3-359f5908798d",
   "metadata": {},
   "outputs": [
    {
     "data": {
      "text/plain": [
       "DataFrame[]"
      ]
     },
     "execution_count": 34,
     "metadata": {},
     "output_type": "execute_result"
    }
   ],
   "source": [
    "spark.sql(\"\"\"\n",
    "    CREATE TABLE Projeto.dim_data (\n",
    "        id_data INT,\n",
    "        Data DATE,\n",
    "        Year INT,\n",
    "        Month INT\n",
    "    )\n",
    "    USING DELTA\n",
    "    LOCATION 'hdfs://hdfs-nn:9000/warehouse/Projeto.db/dim_data'\n",
    "\"\"\")"
   ]
  },
  {
   "cell_type": "code",
   "execution_count": 35,
   "id": "c7d42c21-1b35-41c6-be55-c6cb00869e45",
   "metadata": {},
   "outputs": [
    {
     "data": {
      "text/plain": [
       "DataFrame[]"
      ]
     },
     "execution_count": 35,
     "metadata": {},
     "output_type": "execute_result"
    }
   ],
   "source": [
    "spark.sql(\"\"\"\n",
    "    DROP TABLE IF EXISTS Projeto.local_table\n",
    "\"\"\")"
   ]
  },
  {
   "cell_type": "code",
   "execution_count": 36,
   "id": "92189f7f-528c-4eda-a15d-98b83dda3adf",
   "metadata": {},
   "outputs": [
    {
     "data": {
      "text/plain": [
       "DataFrame[]"
      ]
     },
     "execution_count": 36,
     "metadata": {},
     "output_type": "execute_result"
    }
   ],
   "source": [
    "spark.sql(\"\"\"\n",
    "    CREATE TABLE Projeto.dim_local (\n",
    "        id_local INT,\n",
    "        Latitude STRING,\n",
    "        Longitude STRING,\n",
    "        Location STRING\n",
    "    )\n",
    "    USING DELTA\n",
    "    LOCATION 'hdfs://hdfs-nn:9000/warehouse/Projeto.db/dim_local'\n",
    "\"\"\")"
   ]
  },
  {
   "cell_type": "code",
   "execution_count": 37,
   "id": "3a03c5f9-421f-4241-ba9f-873c74dd5b14",
   "metadata": {},
   "outputs": [
    {
     "data": {
      "text/plain": [
       "DataFrame[]"
      ]
     },
     "execution_count": 37,
     "metadata": {},
     "output_type": "execute_result"
    }
   ],
   "source": [
    "spark.sql(\"\"\"\n",
    "    DROP TABLE IF EXISTS Projeto.pessoa_table\n",
    "\"\"\")"
   ]
  },
  {
   "cell_type": "code",
   "execution_count": 38,
   "id": "417ad9fa-9067-4d48-a2b5-3d6cb8748922",
   "metadata": {},
   "outputs": [
    {
     "data": {
      "text/plain": [
       "DataFrame[]"
      ]
     },
     "execution_count": 38,
     "metadata": {},
     "output_type": "execute_result"
    }
   ],
   "source": [
    "spark.sql(\"\"\"\n",
    "    CREATE TABLE Projeto.dim_pessoa (\n",
    "        id_pessoa INT,\n",
    "        Gender STRING,\n",
    "        Age_category STRING,\n",
    "        Self_defined_ethnicity STRING,\n",
    "        Officer_defined_ethnicity STRING\n",
    "    )\n",
    "    USING DELTA\n",
    "    LOCATION 'hdfs://hdfs-nn:9000/warehouse/Projeto.db/dim_pessoa'\n",
    "\"\"\")\n"
   ]
  },
  {
   "cell_type": "code",
   "execution_count": 39,
   "id": "80330e5a-3557-4827-9736-9975160e99f3",
   "metadata": {},
   "outputs": [
    {
     "data": {
      "text/plain": [
       "DataFrame[]"
      ]
     },
     "execution_count": 39,
     "metadata": {},
     "output_type": "execute_result"
    }
   ],
   "source": [
    "spark.sql(\"\"\"\n",
    "    DROP TABLE IF EXISTS Projeto.operation_table\n",
    "\"\"\")"
   ]
  },
  {
   "cell_type": "code",
   "execution_count": 40,
   "id": "f6cf519c-a1de-4530-b2bb-8b7b0e63f83a",
   "metadata": {},
   "outputs": [
    {
     "data": {
      "text/plain": [
       "DataFrame[]"
      ]
     },
     "execution_count": 40,
     "metadata": {},
     "output_type": "execute_result"
    }
   ],
   "source": [
    "spark.sql(\"\"\"\n",
    "    CREATE TABLE Projeto.dim_operation (\n",
    "        id_operation INT,\n",
    "        Type STRING,\n",
    "        STOP_Operation STRING,\n",
    "        Policing_operation STRING,\n",
    "        Legislation STRING,\n",
    "        Object_of_search STRING,\n",
    "        Outcome STRING,\n",
    "        Outcome_of_Searched_object STRING,\n",
    "        Removal_of_more_than_just_outer_clothing STRING\n",
    "    )\n",
    "    USING DELTA\n",
    "    LOCATION 'hdfs://hdfs-nn:9000/warehouse/Projeto.db/dim_operation'\n",
    "\"\"\")"
   ]
  },
  {
   "cell_type": "code",
   "execution_count": 41,
   "id": "397811ef-8944-4897-bd9b-1cf9d962026e",
   "metadata": {},
   "outputs": [
    {
     "data": {
      "text/plain": [
       "DataFrame[]"
      ]
     },
     "execution_count": 41,
     "metadata": {},
     "output_type": "execute_result"
    }
   ],
   "source": [
    "spark.sql(\"\"\"\n",
    "    DROP TABLE IF EXISTS Projeto.factos_table\n",
    "\"\"\")"
   ]
  },
  {
   "cell_type": "code",
   "execution_count": 42,
   "id": "c22ab7da-2efc-44a3-83d7-2cfacf53ec51",
   "metadata": {},
   "outputs": [
    {
     "data": {
      "text/plain": [
       "DataFrame[]"
      ]
     },
     "execution_count": 42,
     "metadata": {},
     "output_type": "execute_result"
    }
   ],
   "source": [
    "spark.sql(\"\"\"\n",
    "    CREATE TABLE Projeto.factos (\n",
    "        id_data INT,\n",
    "        id_local INT,\n",
    "        id_pessoa INT,\n",
    "        id_operation INT\n",
    "    )\n",
    "    USING DELTA\n",
    "    LOCATION 'hdfs://hdfs-nn:9000/warehouse/Projeto.db/factos'\n",
    "\"\"\")"
   ]
  },
  {
   "cell_type": "code",
   "execution_count": 43,
   "id": "8092610e-00cd-409a-aef2-1987f4f38167",
   "metadata": {},
   "outputs": [],
   "source": [
    "#=================================================== GENDER STATS ==================================================="
   ]
  },
  {
   "cell_type": "code",
   "execution_count": 44,
   "id": "e9bf05d8-26eb-43e8-bf6f-c04a289cad2b",
   "metadata": {},
   "outputs": [
    {
     "data": {
      "text/plain": [
       "DataFrame[]"
      ]
     },
     "execution_count": 44,
     "metadata": {},
     "output_type": "execute_result"
    }
   ],
   "source": [
    "spark.sql(\"\"\"\n",
    "    CREATE TABLE Projeto.Gender_Stats_Data_table (\n",
    "        Gender_Stats_Data_ID STRING,\n",
    "        Country_Region_Situation_Name STRING,\n",
    "        Country_Region_Situation_Code STRING,\n",
    "        Indicator_Name STRING,\n",
    "        Indicator_Code STRING,\n",
    "        Gender STRING,\n",
    "        Uniform_Age_Group STRING,\n",
    "        `1960` FLOAT,\n",
    "        `1961` FLOAT,\n",
    "        `1962` FLOAT,\n",
    "        `1963` FLOAT,\n",
    "        `1964` FLOAT,\n",
    "        `1965` FLOAT,\n",
    "        `1966` FLOAT,\n",
    "        `1967` FLOAT,\n",
    "        `1968` FLOAT,\n",
    "        `1969` FLOAT,\n",
    "        `1970` FLOAT,\n",
    "        `1971` FLOAT,\n",
    "        `1972` FLOAT,\n",
    "        `1973` FLOAT,\n",
    "        `1974` FLOAT,\n",
    "        `1975` FLOAT,\n",
    "        `1976` FLOAT,\n",
    "        `1977` FLOAT,\n",
    "        `1978` FLOAT,\n",
    "        `1979` FLOAT,\n",
    "        `1980` FLOAT,\n",
    "        `1981` FLOAT,\n",
    "        `1982` FLOAT,\n",
    "        `1983` FLOAT,\n",
    "        `1984` FLOAT,\n",
    "        `1985` FLOAT,\n",
    "        `1986` FLOAT,\n",
    "        `1987` FLOAT,\n",
    "        `1988` FLOAT,\n",
    "        `1989` FLOAT,\n",
    "        `1990` FLOAT,\n",
    "        `1991` FLOAT,\n",
    "        `1992` FLOAT,\n",
    "        `1993` FLOAT,\n",
    "        `1994` FLOAT,\n",
    "        `1995` FLOAT,\n",
    "        `1996` FLOAT,\n",
    "        `1997` FLOAT,\n",
    "        `1998` FLOAT,\n",
    "        `1999` FLOAT,\n",
    "        `2000` FLOAT,\n",
    "        `2001` FLOAT,\n",
    "        `2002` FLOAT,\n",
    "        `2003` FLOAT,\n",
    "        `2004` FLOAT,\n",
    "        `2005` FLOAT,\n",
    "        `2006` FLOAT,\n",
    "        `2007` FLOAT,\n",
    "        `2008` FLOAT,\n",
    "        `2009` FLOAT,\n",
    "        `2010` FLOAT,\n",
    "        `2011` FLOAT,\n",
    "        `2012` FLOAT,\n",
    "        `2013` FLOAT,\n",
    "        `2014` FLOAT,\n",
    "        `2015` FLOAT,\n",
    "        `2016` FLOAT,\n",
    "        `2017` FLOAT,\n",
    "        `2018` FLOAT,\n",
    "        `2019` FLOAT,\n",
    "        `2020` FLOAT,\n",
    "        `2021` FLOAT,\n",
    "        `2022` FLOAT\n",
    "    )\n",
    "    USING DELTA\n",
    "    LOCATION 'hdfs://hdfs-nn:9000/warehouse/Projeto.db/Gender_Stats_Data_table'\n",
    "\"\"\")\n"
   ]
  },
  {
   "cell_type": "code",
   "execution_count": 45,
   "id": "2c1e30bd-9cc1-4b67-8b42-66d2a376b874",
   "metadata": {},
   "outputs": [
    {
     "data": {
      "text/plain": [
       "DataFrame[]"
      ]
     },
     "execution_count": 45,
     "metadata": {},
     "output_type": "execute_result"
    }
   ],
   "source": [
    "spark.sql(\"\"\"\n",
    "    DROP TABLE IF EXISTS Projeto.Gender_Stats_Series_table\n",
    "\"\"\")"
   ]
  },
  {
   "cell_type": "code",
   "execution_count": 46,
   "id": "320f9b3a-8ea8-4b86-8bc1-c4d26e86e91f",
   "metadata": {},
   "outputs": [
    {
     "data": {
      "text/plain": [
       "DataFrame[]"
      ]
     },
     "execution_count": 46,
     "metadata": {},
     "output_type": "execute_result"
    }
   ],
   "source": [
    "spark.sql(\"\"\"\n",
    "    CREATE TABLE Projeto.Gender_Stats_Series_table (\n",
    "        Gender_Stats_Series_ID STRING,\n",
    "        Series_Code STRING,\n",
    "        Topic STRING,\n",
    "        Indicator_Name STRING,\n",
    "        Short_definition STRING,\n",
    "        Long_definition STRING,\n",
    "        Unit_of_measure STRING,\n",
    "        Periodicity STRING,\n",
    "        Base_Period STRING,\n",
    "        Other_notes STRING,\n",
    "        Aggregation_method STRING,\n",
    "        Limitations_and_exceptions STRING,\n",
    "        Notes_from_original_source STRING,\n",
    "        General_comments STRING,\n",
    "        Source STRING,\n",
    "        Statistical_concept_and_methodology STRING,\n",
    "        Development_relevance STRING,\n",
    "        Related_source_links STRING,\n",
    "        Other_web_links STRING,\n",
    "        Related_indicators STRING,\n",
    "        License_Type STRING\n",
    "    )\n",
    "    USING DELTA\n",
    "    LOCATION 'hdfs://hdfs-nn:9000/warehouse/Projeto.db/Gender_Stats_Series_table'\n",
    "\"\"\")\n"
   ]
  },
  {
   "cell_type": "code",
   "execution_count": 47,
   "id": "85206207-46d6-48a1-8ec8-76cf27657a58",
   "metadata": {},
   "outputs": [],
   "source": [
    "#-----------------------------------------------------ETAPA GOLD-------------------------------------------------"
   ]
  },
  {
   "cell_type": "code",
   "execution_count": 48,
   "id": "b9e2c79d-40de-4b17-9b5a-03f5dab0eb23",
   "metadata": {},
   "outputs": [
    {
     "data": {
      "text/plain": [
       "DataFrame[]"
      ]
     },
     "execution_count": 48,
     "metadata": {},
     "output_type": "execute_result"
    }
   ],
   "source": [
    "spark.sql(\n",
    "    \"\"\"\n",
    "    DROP TABLE IF EXISTS Projeto.dim_country\n",
    "    \"\"\"\n",
    ")"
   ]
  },
  {
   "cell_type": "code",
   "execution_count": 49,
   "id": "3320aac2-48ee-4301-a6e7-6b688d0d8677",
   "metadata": {},
   "outputs": [
    {
     "data": {
      "text/plain": [
       "DataFrame[]"
      ]
     },
     "execution_count": 49,
     "metadata": {},
     "output_type": "execute_result"
    }
   ],
   "source": [
    "spark.sql(\n",
    "    \"\"\"\n",
    "    CREATE TABLE Projeto.dim_country (\n",
    "        Country_Dimension_ID STRING, \n",
    "        Country_Region_Situation_Name STRING,\n",
    "        Country_Region_Situation_Code STRING\n",
    "    )\n",
    "    USING DELTA\n",
    "    LOCATION 'hdfs://hdfs-nn:9000/warehouse/Projeto.db/dim_country'\n",
    "    \"\"\"\n",
    ")"
   ]
  },
  {
   "cell_type": "code",
   "execution_count": 50,
   "id": "cd9e6dee-5a7f-45bd-8154-7c6a15078d6a",
   "metadata": {},
   "outputs": [
    {
     "data": {
      "text/plain": [
       "DataFrame[]"
      ]
     },
     "execution_count": 50,
     "metadata": {},
     "output_type": "execute_result"
    }
   ],
   "source": [
    "spark.sql(\n",
    "    \"\"\"\n",
    "    DROP TABLE IF EXISTS Projeto.dim_temporal_measurement\n",
    "    \"\"\"\n",
    ")"
   ]
  },
  {
   "cell_type": "code",
   "execution_count": 51,
   "id": "5ebf8328-561a-4ea3-b227-8163e5c9a084",
   "metadata": {},
   "outputs": [
    {
     "data": {
      "text/plain": [
       "DataFrame[]"
      ]
     },
     "execution_count": 51,
     "metadata": {},
     "output_type": "execute_result"
    }
   ],
   "source": [
    "spark.sql(\n",
    "    \"\"\"\n",
    "    CREATE TABLE Projeto.dim_temporal_measurement (\n",
    "        Temporal_Measurement_ID STRING,\n",
    "        Periodicity STRING,\n",
    "        Base_Period STRING\n",
    "    )\n",
    "    USING DELTA\n",
    "    LOCATION 'hdfs://hdfs-nn:9000/warehouse/Projeto.db/dim_temporal_measurement'\n",
    "    \"\"\"\n",
    ")"
   ]
  },
  {
   "cell_type": "code",
   "execution_count": 52,
   "id": "db74a293-4482-463b-941e-be6f28aa3abf",
   "metadata": {},
   "outputs": [
    {
     "data": {
      "text/plain": [
       "DataFrame[]"
      ]
     },
     "execution_count": 52,
     "metadata": {},
     "output_type": "execute_result"
    }
   ],
   "source": [
    "spark.sql(\n",
    "    \"\"\"\n",
    "    DROP TABLE IF EXISTS Projeto.dim_sources\n",
    "    \"\"\"\n",
    ")"
   ]
  },
  {
   "cell_type": "code",
   "execution_count": 53,
   "id": "c4873fea-ee5e-47ac-864e-fd056aefcb00",
   "metadata": {},
   "outputs": [
    {
     "data": {
      "text/plain": [
       "DataFrame[]"
      ]
     },
     "execution_count": 53,
     "metadata": {},
     "output_type": "execute_result"
    }
   ],
   "source": [
    "spark.sql(\n",
    "    \"\"\"\n",
    "    CREATE TABLE Projeto.dim_sources (\n",
    "        Sources_Dimension_ID STRING,\n",
    "        Notes_from_original_source STRING,\n",
    "        Source STRING,\n",
    "        Related_source_links STRING,\n",
    "        Other_web_links STRING\n",
    "    )\n",
    "    USING DELTA\n",
    "    LOCATION 'hdfs://hdfs-nn:9000/warehouse/Projeto.db/dim_sources'\n",
    "    \"\"\"\n",
    ")"
   ]
  },
  {
   "cell_type": "code",
   "execution_count": 54,
   "id": "e5f49145-c94a-4b36-bd57-3647f7ea6b7d",
   "metadata": {},
   "outputs": [
    {
     "data": {
      "text/plain": [
       "DataFrame[]"
      ]
     },
     "execution_count": 54,
     "metadata": {},
     "output_type": "execute_result"
    }
   ],
   "source": [
    "spark.sql(\n",
    "    \"\"\"\n",
    "    DROP TABLE IF EXISTS Projeto.dim_measurement_methods\n",
    "    \"\"\"\n",
    ")"
   ]
  },
  {
   "cell_type": "code",
   "execution_count": 55,
   "id": "22838693-919f-40a0-b495-341d1749b6d1",
   "metadata": {},
   "outputs": [
    {
     "data": {
      "text/plain": [
       "DataFrame[]"
      ]
     },
     "execution_count": 55,
     "metadata": {},
     "output_type": "execute_result"
    }
   ],
   "source": [
    "spark.sql(\n",
    "    \"\"\"\n",
    "    CREATE TABLE Projeto.dim_measurement_methods (\n",
    "        Measurement_Methods_ID STRING,\n",
    "        Unit_of_measure STRING,\n",
    "        Aggregation_method STRING\n",
    "    )\n",
    "    USING DELTA\n",
    "    LOCATION 'hdfs://hdfs-nn:9000/warehouse/Projeto.db/dim_measurement_methods'\n",
    "    \"\"\"\n",
    ")"
   ]
  },
  {
   "cell_type": "code",
   "execution_count": 56,
   "id": "36b85401-2b61-4ecc-9521-98c13971d498",
   "metadata": {},
   "outputs": [
    {
     "data": {
      "text/plain": [
       "DataFrame[]"
      ]
     },
     "execution_count": 56,
     "metadata": {},
     "output_type": "execute_result"
    }
   ],
   "source": [
    "spark.sql(\n",
    "    \"\"\"\n",
    "    DROP TABLE IF EXISTS Projeto.dim_gender_series\n",
    "    \"\"\"\n",
    ")"
   ]
  },
  {
   "cell_type": "code",
   "execution_count": 57,
   "id": "2cd610b4-3bb9-4da7-a96c-0af2b0a2f307",
   "metadata": {},
   "outputs": [
    {
     "data": {
      "text/plain": [
       "DataFrame[]"
      ]
     },
     "execution_count": 57,
     "metadata": {},
     "output_type": "execute_result"
    }
   ],
   "source": [
    "spark.sql(\n",
    "    \"\"\"\n",
    "    CREATE TABLE Projeto.dim_gender_series (\n",
    "        Gender_Series_ID STRING,\n",
    "        Indicator_Name STRING,\n",
    "        Indicator_Code STRING,\n",
    "        Gender STRING,\n",
    "        Uniform_Age_Group STRING,\n",
    "        Topic STRING,\n",
    "        Short_definition STRING,\n",
    "        Long_definition STRING,\n",
    "        Other_notes STRING,\n",
    "        Limitations_and_exceptions STRING,\n",
    "        General_comments STRING,\n",
    "        Statistical_concept_and_methodology STRING,\n",
    "        Development_relevance STRING,\n",
    "        Related_indicators STRING,\n",
    "        License_Type STRING,\n",
    "        Year INT\n",
    "    )\n",
    "    USING DELTA\n",
    "    LOCATION 'hdfs://hdfs-nn:9000/warehouse/Projeto.db/dim_gender_series'\n",
    "    \"\"\"\n",
    ")"
   ]
  },
  {
   "cell_type": "code",
   "execution_count": 58,
   "id": "58384bac-545b-4734-8f10-12f0c8cf776c",
   "metadata": {},
   "outputs": [
    {
     "data": {
      "text/plain": [
       "DataFrame[]"
      ]
     },
     "execution_count": 58,
     "metadata": {},
     "output_type": "execute_result"
    }
   ],
   "source": [
    "spark.sql(\n",
    "    \"\"\"\n",
    "    DROP TABLE IF EXISTS Projeto.gender_data\n",
    "    \"\"\"\n",
    ")"
   ]
  },
  {
   "cell_type": "code",
   "execution_count": 59,
   "id": "8fe719e8-d51c-4cf2-b47e-bcca5a5b8b59",
   "metadata": {},
   "outputs": [
    {
     "data": {
      "text/plain": [
       "DataFrame[]"
      ]
     },
     "execution_count": 59,
     "metadata": {},
     "output_type": "execute_result"
    }
   ],
   "source": [
    "spark.sql(\n",
    "    \"\"\"\n",
    "    CREATE TABLE Projeto.gender_data (\n",
    "        Country_Dimension_ID STRING,\n",
    "        Temporal_Measurement_ID STRING,\n",
    "        Sources_Dimension_ID STRING,\n",
    "        Measurement_Methods_ID STRING,\n",
    "        Gender_Series_ID STRING,\n",
    "        Indicator_Number FLOAT\n",
    "    )\n",
    "    USING DELTA\n",
    "    LOCATION 'hdfs://hdfs-nn:9000/warehouse/Projeto.db/gender_data'\n",
    "    \"\"\"\n",
    ")"
   ]
  },
  {
   "cell_type": "code",
   "execution_count": null,
   "id": "070ac4f0-8b81-4f19-b052-55da3ddfbe4e",
   "metadata": {},
   "outputs": [],
   "source": []
  },
  {
   "cell_type": "code",
   "execution_count": null,
   "id": "0eb96ba2-86b4-4363-a29a-cf00a7b317ed",
   "metadata": {},
   "outputs": [],
   "source": []
  },
  {
   "cell_type": "code",
   "execution_count": null,
   "id": "65fdeaf4-503e-44ea-a3cb-f588373810ac",
   "metadata": {},
   "outputs": [],
   "source": []
  },
  {
   "cell_type": "code",
   "execution_count": 60,
   "id": "238b8dd6-b87b-44ac-a242-71127ba031e1",
   "metadata": {},
   "outputs": [],
   "source": [
    "#=================================================== CHILD_PROTECTION ==================================================="
   ]
  },
  {
   "cell_type": "code",
   "execution_count": 61,
   "id": "0c15710f-62b9-4be5-861d-fb6e14d5d4e5",
   "metadata": {},
   "outputs": [
    {
     "data": {
      "text/plain": [
       "DataFrame[]"
      ]
     },
     "execution_count": 61,
     "metadata": {},
     "output_type": "execute_result"
    }
   ],
   "source": [
    "spark.sql(\n",
    "    \"\"\"\n",
    "    DROP TABLE IF EXISTS Projeto.Child_Protection_table\n",
    "    \"\"\"\n",
    ")"
   ]
  },
  {
   "cell_type": "code",
   "execution_count": 62,
   "id": "bd0bd9f6-a1f7-494e-aec9-09b25c73dc58",
   "metadata": {},
   "outputs": [
    {
     "data": {
      "text/plain": [
       "DataFrame[]"
      ]
     },
     "execution_count": 62,
     "metadata": {},
     "output_type": "execute_result"
    }
   ],
   "source": [
    "spark.sql(\"\"\"\n",
    "    CREATE TABLE Projeto.Child_Protection_table (\n",
    "    Children_Careplan_Id INT,\n",
    "    Date_Careplan_Started STRING,\n",
    "    Date_Careplan_Ended STRING,\n",
    "    Category_of_Abuse STRING,\n",
    "    Careplan_End_Reason STRING,\n",
    "    Current_Careplan_Protection STRING,\n",
    "    Gender STRING,\n",
    "    Disabled STRING,\n",
    "    Registration_Disabled STRING,\n",
    "    Unique STRING,\n",
    "    Current_Age_Group STRING,\n",
    "    Start_Month_and_Year STRING,\n",
    "    End_Month_and_Year STRING,\n",
    "    Current_Age_Bracket STRING,\n",
    "    Age_Group_on_Registration STRING, \n",
    "    Age_Group_on_deRegistration STRING,\n",
    "    Uniform_Age_Group STRING,\n",
    "    Borough STRING,\n",
    "    Data_Careplan_Started_month INT,\n",
    "    Data_Careplan_Started_year INT,\n",
    "    Data_Careplan_Ended_month INT,\n",
    "    Data_Careplan_Ended_year INT,\n",
    "    Start_Month_and_Year_month INT,\n",
    "    Start_Month_and_Year_year INT,\n",
    "    End_Month_and_Year_month INT,\n",
    "    End_Month_and_Year_year INT\n",
    ")\n",
    "USING DELTA\n",
    "LOCATION 'hdfs://hdfs-nn:9000/warehouse/Projeto.db/Child_Protection_table/'\n",
    "\"\"\")"
   ]
  },
  {
   "cell_type": "code",
   "execution_count": 63,
   "id": "b98aaa80-bb22-4f4f-b1d8-261921f38c1a",
   "metadata": {},
   "outputs": [],
   "source": [
    "#-----------------------------------------------------ETAPA GOLD-------------------------------------------------"
   ]
  },
  {
   "cell_type": "code",
   "execution_count": 64,
   "id": "67edf946-223d-48ce-bb7d-d970cbf66313",
   "metadata": {},
   "outputs": [
    {
     "data": {
      "text/plain": [
       "DataFrame[]"
      ]
     },
     "execution_count": 64,
     "metadata": {},
     "output_type": "execute_result"
    }
   ],
   "source": [
    "# Criar a tabela de dimensão Date\n",
    "spark.sql(\n",
    "    \"\"\"\n",
    "    DROP TABLE IF EXISTS Projeto.dim_date\n",
    "    \"\"\"\n",
    ")\n",
    "\n",
    "spark.sql(\n",
    "    \"\"\"\n",
    "    CREATE TABLE Projeto.dim_date (\n",
    "        Date_Dimension_ID STRING,\n",
    "        Data_Careplan_Started_month INT,\n",
    "        Data_Careplan_Started_year INT,\n",
    "        Data_Careplan_Ended_month INT,\n",
    "        Data_Careplan_Ended_year INT,\n",
    "        Start_Month_and_Year_month INT,\n",
    "        Start_Month_and_Year_year INT,\n",
    "        End_Month_and_Year_month INT,\n",
    "        End_Month_and_Year_year INT\n",
    "    )\n",
    "    USING DELTA\n",
    "    LOCATION 'hdfs://hdfs-nn:9000/warehouse/Projeto.db/dim_date'\n",
    "    \"\"\"\n",
    ")"
   ]
  },
  {
   "cell_type": "code",
   "execution_count": 65,
   "id": "7e52300c-4cc3-4d49-907e-7941d0a0ebe5",
   "metadata": {},
   "outputs": [
    {
     "data": {
      "text/plain": [
       "DataFrame[]"
      ]
     },
     "execution_count": 65,
     "metadata": {},
     "output_type": "execute_result"
    }
   ],
   "source": [
    "# Criar a tabela de dimensão Child\n",
    "spark.sql(\n",
    "    \"\"\"\n",
    "    DROP TABLE IF EXISTS Projeto.dim_child\n",
    "    \"\"\"\n",
    ")\n",
    "\n",
    "spark.sql(\n",
    "    \"\"\"\n",
    "    CREATE TABLE Projeto.dim_child (\n",
    "        Child_Dimension_ID STRING,\n",
    "        Gender STRING,\n",
    "        Disabled STRING,\n",
    "        Registration_Disabled STRING,\n",
    "        Unique STRING,\n",
    "        Current_Age_Group STRING,\n",
    "        Current_Age_Bracket STRING,\n",
    "        Age_Group_on_Registration STRING, \n",
    "        Age_Group_on_deRegistration STRING,\n",
    "        Uniform_Age_Group STRING\n",
    "    )\n",
    "    USING DELTA\n",
    "    LOCATION 'hdfs://hdfs-nn:9000/warehouse/Projeto.db/dim_child'\n",
    "    \"\"\"\n",
    ")"
   ]
  },
  {
   "cell_type": "code",
   "execution_count": 66,
   "id": "026ea538-f886-4dde-a0f9-060094e9d570",
   "metadata": {},
   "outputs": [
    {
     "data": {
      "text/plain": [
       "DataFrame[]"
      ]
     },
     "execution_count": 66,
     "metadata": {},
     "output_type": "execute_result"
    }
   ],
   "source": [
    "# Criar a tabela de dimensão Care Plan\n",
    "spark.sql(\n",
    "    \"\"\"\n",
    "    DROP TABLE IF EXISTS Projeto.dim_care_plan\n",
    "    \"\"\"\n",
    ")\n",
    "\n",
    "spark.sql(\n",
    "    \"\"\"\n",
    "    CREATE TABLE Projeto.dim_care_plan (\n",
    "        Care_Plan_Dimension_ID STRING,\n",
    "        Category_of_Abuse STRING,\n",
    "        Careplan_End_Reason STRING,\n",
    "        Current_Careplan_Protection STRING,\n",
    "        Local STRING\n",
    "    )\n",
    "    USING DELTA\n",
    "    LOCATION 'hdfs://hdfs-nn:9000/warehouse/Projeto.db/dim_care_plan'\n",
    "    \"\"\"\n",
    ")"
   ]
  },
  {
   "cell_type": "code",
   "execution_count": 67,
   "id": "b0568521-cbef-43ec-982c-208bef388f6e",
   "metadata": {},
   "outputs": [
    {
     "data": {
      "text/plain": [
       "DataFrame[]"
      ]
     },
     "execution_count": 67,
     "metadata": {},
     "output_type": "execute_result"
    }
   ],
   "source": [
    "# Criar a tabela de factos Care Plane per Child\n",
    "spark.sql(\n",
    "    \"\"\"\n",
    "    DROP TABLE IF EXISTS Projeto.cp_per_child\n",
    "    \"\"\"\n",
    ")\n",
    "\n",
    "spark.sql(\n",
    "    \"\"\"\n",
    "    CREATE TABLE Projeto.cp_per_child (\n",
    "        Data_Dimension_ID STRING,\n",
    "        Child_Dimension_ID STRING,\n",
    "        Care_Plan_Dimension_ID STRING,\n",
    "        Child_with_CP INT\n",
    "    )\n",
    "    USING DELTA\n",
    "    LOCATION 'hdfs://hdfs-nn:9000/warehouse/Projeto.db/cp_per_child'\n",
    "    \"\"\"\n",
    ")"
   ]
  },
  {
   "cell_type": "code",
   "execution_count": null,
   "id": "d4257c3b-7774-4999-908e-bca471bf4028",
   "metadata": {},
   "outputs": [],
   "source": [
    "spark.stop()"
   ]
  }
 ],
 "metadata": {
  "kernelspec": {
   "display_name": "Python 3 (ipykernel)",
   "language": "python",
   "name": "python3"
  },
  "language_info": {
   "codemirror_mode": {
    "name": "ipython",
    "version": 3
   },
   "file_extension": ".py",
   "mimetype": "text/x-python",
   "name": "python",
   "nbconvert_exporter": "python",
   "pygments_lexer": "ipython3",
   "version": "3.11.5"
  },
  "vscode": {
   "interpreter": {
    "hash": "aee8b7b246df8f9039afb4144a1f6fd8d2ca17a180786b69acc140d282b71a49"
   }
  }
 },
 "nbformat": 4,
 "nbformat_minor": 5
}
